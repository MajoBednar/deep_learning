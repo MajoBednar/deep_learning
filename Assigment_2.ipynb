{
 "cells": [
  {
   "cell_type": "code",
   "execution_count": 1,
   "metadata": {
    "ExecuteTime": {
     "end_time": "2025-06-01T11:09:16.622309200Z",
     "start_time": "2025-06-01T11:09:13.027159100Z"
    },
    "collapsed": true
   },
   "outputs": [],
   "source": [
    "import os\n",
    "import h5py\n",
    "import numpy as np\n",
    "from scipy.signal import decimate\n",
    "from sklearn.preprocessing import LabelEncoder\n",
    "from sklearn.utils import shuffle\n",
    "import torch\n",
    "import torch.nn as nn"
   ]
  },
  {
   "cell_type": "code",
   "execution_count": 2,
   "metadata": {
    "ExecuteTime": {
     "end_time": "2025-06-01T11:51:41.952850400Z",
     "start_time": "2025-06-01T11:51:41.928204200Z"
    },
    "collapsed": false
   },
   "outputs": [],
   "source": [
    "VERBOSE = 0  # constant for debugging, higher number means more printing\n",
    "TRAIN_VAL_SPLIT = 6  # number of train files per task, the rest for validation\n",
    "DOWNSAMPLING_FACTOR = 10"
   ]
  },
  {
   "cell_type": "code",
   "execution_count": 3,
   "metadata": {
    "ExecuteTime": {
     "end_time": "2025-06-01T10:40:37.903166500Z",
     "start_time": "2025-06-01T10:40:35.613368800Z"
    },
    "collapsed": false
   },
   "outputs": [],
   "source": [
    "def log(message: tuple, verbose_true: int, verbose_min):\n",
    "    \"\"\"Helper print function, based on verbose params.\"\"\"\n",
    "    if verbose_true >= verbose_min:\n",
    "        for entry in message:\n",
    "            print(entry, end=' ')\n",
    "        print()"
   ]
  },
  {
   "cell_type": "code",
   "execution_count": 4,
   "metadata": {
    "ExecuteTime": {
     "end_time": "2025-06-01T10:40:39.609333100Z",
     "start_time": "2025-06-01T10:40:37.102388700Z"
    },
    "collapsed": false
   },
   "outputs": [],
   "source": [
    "def load_data(filename):\n",
    "    \"\"\"Load data from .h5 file.\"\"\"\n",
    "    with h5py.File(filename, 'r') as f:\n",
    "        data = f[next(iter(f.keys()))][()]\n",
    "    return data"
   ]
  },
  {
   "cell_type": "code",
   "execution_count": 5,
   "metadata": {
    "ExecuteTime": {
     "end_time": "2025-06-01T10:40:41.581930800Z",
     "start_time": "2025-06-01T10:40:37.103387200Z"
    },
    "collapsed": false
   },
   "outputs": [],
   "source": [
    "def data_loader(input_dir: str) -> tuple[np.ndarray, str]:\n",
    "    \"\"\"Generator for loading data and its filename from all .h5 files in a directory.\"\"\"\n",
    "    for file in os.listdir(input_dir):\n",
    "        if not file.endswith('.h5'):\n",
    "            continue\n",
    "        path = os.path.join(input_dir, file)\n",
    "        data = load_data(path)\n",
    "        yield data, file"
   ]
  },
  {
   "cell_type": "code",
   "execution_count": 6,
   "metadata": {
    "ExecuteTime": {
     "end_time": "2025-06-01T10:40:43.373941600Z",
     "start_time": "2025-06-01T10:40:37.904166500Z"
    },
    "collapsed": false
   },
   "outputs": [],
   "source": [
    "def create_data_file(data, output_dir, filename: str):\n",
    "    \"\"\"Create .h5 file with given data.\"\"\"\n",
    "    os.makedirs(output_dir, exist_ok=True)\n",
    "    output_path = os.path.join(output_dir, filename)\n",
    "    with h5py.File(output_path, 'w') as f:\n",
    "        f.create_dataset(filename.rsplit('.', 1)[0], data=data)"
   ]
  },
  {
   "cell_type": "code",
   "execution_count": 7,
   "metadata": {
    "ExecuteTime": {
     "end_time": "2025-06-01T10:40:45.284658600Z",
     "start_time": "2025-06-01T10:40:39.609333100Z"
    },
    "collapsed": false
   },
   "outputs": [],
   "source": [
    "def get_file_info(filename: str) -> tuple[str, int]:\n",
    "    filename = filename.rsplit('.', 1)[0].split('_')\n",
    "    task, _, window = filename[-3], filename[-2], filename[-1]\n",
    "    return task, int(window)"
   ]
  },
  {
   "cell_type": "markdown",
   "metadata": {
    "collapsed": false
   },
   "source": [
    "### Preprocessing"
   ]
  },
  {
   "cell_type": "code",
   "execution_count": 8,
   "metadata": {
    "ExecuteTime": {
     "end_time": "2025-06-01T10:40:47.103187800Z",
     "start_time": "2025-06-01T10:40:39.610332900Z"
    },
    "collapsed": false
   },
   "outputs": [],
   "source": [
    "def downsample(data, factor):\n",
    "    \"\"\"Downsample data based on factor.\"\"\"\n",
    "    return decimate(data, factor, axis=1)"
   ]
  },
  {
   "cell_type": "code",
   "execution_count": 9,
   "metadata": {
    "ExecuteTime": {
     "end_time": "2025-06-01T10:40:48.569402Z",
     "start_time": "2025-06-01T10:40:39.610332900Z"
    },
    "collapsed": false
   },
   "outputs": [],
   "source": [
    "def get_means(data) -> np.ndarray:\n",
    "    \"\"\"Get means for every sensor dimension.\"\"\"\n",
    "    return np.mean(data, axis=1, keepdims=True)"
   ]
  },
  {
   "cell_type": "code",
   "execution_count": 10,
   "metadata": {
    "ExecuteTime": {
     "end_time": "2025-06-01T10:40:50.146377800Z",
     "start_time": "2025-06-01T10:40:41.581930800Z"
    },
    "collapsed": false
   },
   "outputs": [],
   "source": [
    "def get_stds(data) -> np.ndarray:\n",
    "    \"\"\"Get standard deviations for every sensor dimension.\"\"\"\n",
    "    return np.std(data, axis=1, keepdims=True)"
   ]
  },
  {
   "cell_type": "code",
   "execution_count": 11,
   "metadata": {
    "ExecuteTime": {
     "end_time": "2025-06-01T10:40:52.252422Z",
     "start_time": "2025-06-01T10:40:43.373941600Z"
    },
    "collapsed": false
   },
   "outputs": [],
   "source": [
    "def z_score_normalize(data, means, stds):\n",
    "    \"\"\"Z-score normalization for every sensor dimension.\"\"\"\n",
    "    return (data - means) / stds"
   ]
  },
  {
   "cell_type": "code",
   "execution_count": 12,
   "metadata": {
    "ExecuteTime": {
     "end_time": "2025-06-01T10:40:54.344332Z",
     "start_time": "2025-06-01T10:40:45.284658600Z"
    },
    "collapsed": false
   },
   "outputs": [],
   "source": [
    "def downsample_and_save(input_dir, output_dir, factor, verbose):\n",
    "    \"\"\"Downsample data in each file and save them in a new file.\"\"\"\n",
    "    for data, file in data_loader(input_dir):\n",
    "        data = downsample(data, factor)\n",
    "        create_data_file(data, output_dir, f\"ds_{file}\")"
   ]
  },
  {
   "cell_type": "code",
   "execution_count": 13,
   "metadata": {
    "ExecuteTime": {
     "end_time": "2025-06-01T10:40:57.231797700Z",
     "start_time": "2025-06-01T10:40:47.103187800Z"
    },
    "collapsed": false
   },
   "outputs": [],
   "source": [
    "def normalize_and_save(input_dir, output_dir, means, stds, verbose):\n",
    "    \"\"\"Normalize data in each file and save them in a new file.\"\"\"\n",
    "    for data, file in data_loader(input_dir):\n",
    "        data = z_score_normalize(data, means, stds)\n",
    "        create_data_file(data, output_dir, f\"norm_{file}\")"
   ]
  },
  {
   "cell_type": "code",
   "execution_count": 14,
   "metadata": {
    "ExecuteTime": {
     "end_time": "2025-06-01T10:41:02.449701900Z",
     "start_time": "2025-06-01T10:40:47.104188900Z"
    },
    "collapsed": false
   },
   "outputs": [],
   "source": [
    "def concat_together(input_dir):\n",
    "    \"\"\"\n",
    "    Concatenate data from files into a single time window of sensor readings.\n",
    "    Also split to a train and validation sets.\n",
    "    \"\"\"\n",
    "    train_data = None\n",
    "    val_data = None\n",
    "    for data, file in data_loader(input_dir):\n",
    "        _, window = get_file_info(file)\n",
    "        if window <= TRAIN_VAL_SPLIT and train_data is None:\n",
    "            train_data = data\n",
    "        elif window <= TRAIN_VAL_SPLIT:\n",
    "            train_data = np.concat((train_data, data), axis=1)\n",
    "        elif val_data is None:\n",
    "            val_data = data\n",
    "        else:\n",
    "            val_data = np.concat((train_data, data), axis=1)\n",
    "    return train_data, val_data"
   ]
  },
  {
   "cell_type": "code",
   "execution_count": 15,
   "metadata": {
    "ExecuteTime": {
     "end_time": "2025-06-01T10:42:14.590931800Z",
     "start_time": "2025-06-01T10:40:48.569402Z"
    }
   },
   "outputs": [],
   "source": [
    "downsample_and_save('fpd/Intra/train', 'fpd/Intra/train_ds', DOWNSAMPLING_FACTOR, VERBOSE)"
   ]
  },
  {
   "cell_type": "code",
   "execution_count": 16,
   "metadata": {
    "ExecuteTime": {
     "end_time": "2025-06-01T10:42:19.035711300Z",
     "start_time": "2025-06-01T10:42:14.590931800Z"
    },
    "collapsed": false
   },
   "outputs": [],
   "source": [
    "data_train, _ = concat_together('fpd/Intra/train_ds')\n",
    "means, stds = get_means(data_train), get_stds(data_train)"
   ]
  },
  {
   "cell_type": "code",
   "execution_count": 17,
   "metadata": {
    "ExecuteTime": {
     "end_time": "2025-06-01T10:42:29.003698700Z",
     "start_time": "2025-06-01T10:42:19.035711300Z"
    },
    "collapsed": false
   },
   "outputs": [],
   "source": [
    "normalize_and_save('fpd/Intra/train_ds', 'fpd/Intra/train_ds_norm', means, stds, VERBOSE)"
   ]
  },
  {
   "cell_type": "markdown",
   "metadata": {
    "collapsed": false
   },
   "source": [
    "### Training"
   ]
  },
  {
   "cell_type": "code",
   "execution_count": 18,
   "metadata": {
    "ExecuteTime": {
     "end_time": "2025-06-01T11:51:48.103169900Z",
     "start_time": "2025-06-01T11:51:48.090327100Z"
    },
    "collapsed": false
   },
   "outputs": [],
   "source": [
    "def concat_as_samples(input_dir):\n",
    "    \"\"\"\n",
    "    Concatenate data from files, treating each data file as a window sample\n",
    "    of sensor readings. Also split them to train and validation sets.\n",
    "    \"\"\"\n",
    "    samples_train = []\n",
    "    tasks_train = []\n",
    "    samples_val = []\n",
    "    tasks_val = []\n",
    "    for data, file in data_loader(input_dir):\n",
    "        task, window = get_file_info(file)\n",
    "        if window <= TRAIN_VAL_SPLIT:\n",
    "            samples_train.append(data)\n",
    "            tasks_train.append(task)\n",
    "        else:\n",
    "            samples_val.append(data)\n",
    "            tasks_val.append(task)\n",
    "    return np.stack(samples_train), tasks_train, np.stack(samples_val), tasks_val"
   ]
  },
  {
   "cell_type": "code",
   "execution_count": 19,
   "metadata": {
    "ExecuteTime": {
     "end_time": "2025-06-01T11:51:48.805139400Z",
     "start_time": "2025-06-01T11:51:48.580264400Z"
    },
    "collapsed": false
   },
   "outputs": [
    {
     "name": "stdout",
     "output_type": "stream",
     "text": [
      "(24, 248, 3563)\n",
      "(8, 248, 3563)\n",
      "['rest', 'rest', 'rest', 'rest', 'rest', 'rest', 'motor', 'motor', 'motor', 'motor', 'motor', 'motor', 'math', 'math', 'math', 'math', 'math', 'math', 'memory', 'memory', 'memory', 'memory', 'memory', 'memory']\n"
     ]
    }
   ],
   "source": [
    "data_train, labels_train, data_val, labels_val = concat_as_samples('fpd/Intra/train_ds_norm')\n",
    "print(np.shape(data_train))\n",
    "print(np.shape(data_val))\n",
    "print(labels_train)"
   ]
  },
  {
   "cell_type": "markdown",
   "metadata": {
    "collapsed": false
   },
   "source": [
    "#### Multiclass Logistic Regression"
   ]
  },
  {
   "cell_type": "code",
   "execution_count": 20,
   "metadata": {
    "ExecuteTime": {
     "end_time": "2025-06-01T11:51:49.692716600Z",
     "start_time": "2025-06-01T11:51:49.617254600Z"
    },
    "collapsed": false
   },
   "outputs": [
    {
     "name": "stdout",
     "output_type": "stream",
     "text": [
      "(24, 883624)\n",
      "[3 3 3 3 3 3 2 2 2 2 2 2 0 0 0 0 0 0 1 1 1 1 1 1]\n",
      "[3 3 2 2 0 0 1 1]\n"
     ]
    }
   ],
   "source": [
    "# Flatten the data: (24, 248, 3563) → (24, 248*3563)\n",
    "X_train = data_train.reshape(len(data_train), -1)\n",
    "X_val = data_val.reshape(len(data_val), -1)\n",
    "print(np.shape(X_train))\n",
    "\n",
    "# Encode string labels to integers\n",
    "le = LabelEncoder()\n",
    "y_train = le.fit_transform(labels_train)\n",
    "y_val = le.transform(labels_val)\n",
    "print(y_train)\n",
    "print(y_val)\n",
    "\n",
    "# Convert to torch tensors\n",
    "X_train_tensor = torch.tensor(X_train, dtype=torch.float32)\n",
    "y_train_tensor = torch.tensor(y_train, dtype=torch.long)\n",
    "\n",
    "X_val_tensor = torch.tensor(X_val, dtype=torch.float32)\n",
    "y_val_tensor = torch.tensor(y_val, dtype=torch.long)"
   ]
  },
  {
   "cell_type": "code",
   "execution_count": 21,
   "metadata": {
    "ExecuteTime": {
     "end_time": "2025-06-01T11:51:50.090725300Z",
     "start_time": "2025-06-01T11:51:50.079534400Z"
    },
    "collapsed": false
   },
   "outputs": [],
   "source": [
    "class MulticlassLogisticRegression(nn.Module):\n",
    "    def __init__(self, input_dim, num_classes):\n",
    "        super(MulticlassLogisticRegression, self).__init__()\n",
    "        self.linear = nn.Linear(input_dim, num_classes)\n",
    "\n",
    "    def forward(self, x):\n",
    "        return self.linear(x)  # No softmax here; CrossEntropyLoss does it"
   ]
  },
  {
   "cell_type": "code",
   "execution_count": 22,
   "metadata": {
    "ExecuteTime": {
     "end_time": "2025-06-01T11:51:50.511812700Z",
     "start_time": "2025-06-01T11:51:50.476202900Z"
    },
    "collapsed": false
   },
   "outputs": [],
   "source": [
    "input_dim = X_train.shape[1]\n",
    "num_classes = len(set(y_train))\n",
    "model = MulticlassLogisticRegression(input_dim, num_classes)"
   ]
  },
  {
   "cell_type": "code",
   "execution_count": 23,
   "metadata": {
    "ExecuteTime": {
     "end_time": "2025-06-01T11:51:50.872252Z",
     "start_time": "2025-06-01T11:51:50.857726700Z"
    },
    "collapsed": false
   },
   "outputs": [],
   "source": [
    "criterion = nn.CrossEntropyLoss()\n",
    "optimizer = torch.optim.Adam(model.parameters(), lr=0.01)"
   ]
  },
  {
   "cell_type": "code",
   "execution_count": 24,
   "metadata": {
    "ExecuteTime": {
     "end_time": "2025-06-01T11:51:51.396916100Z",
     "start_time": "2025-06-01T11:51:51.254121Z"
    },
    "collapsed": false
   },
   "outputs": [
    {
     "name": "stdout",
     "output_type": "stream",
     "text": [
      "Epoch 1/3, Loss: 1.6432\n",
      "Epoch 2/3, Loss: 0.0000\n",
      "Epoch 3/3, Loss: 0.0000\n"
     ]
    }
   ],
   "source": [
    "num_epochs = 3\n",
    "\n",
    "for epoch in range(num_epochs):\n",
    "    model.train()\n",
    "    outputs = model(X_train_tensor)\n",
    "    loss = criterion(outputs, y_train_tensor)\n",
    "\n",
    "    optimizer.zero_grad()\n",
    "    loss.backward()\n",
    "    optimizer.step()\n",
    "\n",
    "    if (epoch + 1) % 1 == 0:\n",
    "        print(f'Epoch {epoch+1}/{num_epochs}, Loss: {loss.item():.4f}')"
   ]
  },
  {
   "cell_type": "code",
   "execution_count": 25,
   "metadata": {
    "ExecuteTime": {
     "end_time": "2025-06-01T11:51:52.211354600Z",
     "start_time": "2025-06-01T11:51:52.194701800Z"
    },
    "collapsed": false
   },
   "outputs": [
    {
     "name": "stdout",
     "output_type": "stream",
     "text": [
      "tensor([[ -9691.7686, -15035.7412, -38120.0195,  39781.2891],\n",
      "        [ -9867.9629, -15502.9072, -43156.1992,  44121.6758],\n",
      "        [ -6633.0840,  -1180.1707,  14788.1201, -11087.8486],\n",
      "        [ -6765.7666,   -213.5196,  15066.7207, -11538.2139],\n",
      "        [ 11213.1582,   2144.4160,   5994.2549,  -8486.6953],\n",
      "        [ 11330.0869,   2936.6958,   6030.9805,  -8760.9062],\n",
      "        [  2889.8552,  10752.7666,   -707.2422,  -4187.3984],\n",
      "        [  2630.9756,   9910.7871,   -786.3411,  -3658.1145]])\n",
      "True classes     : tensor([3, 3, 2, 2, 0, 0, 1, 1])\n",
      "Model predictions: tensor([3, 3, 2, 2, 0, 0, 1, 1])\n",
      "Validation Accuracy: 1.0000\n"
     ]
    }
   ],
   "source": [
    "model.eval()\n",
    "with torch.no_grad():\n",
    "    val_outputs = model(X_val_tensor)\n",
    "    print(val_outputs)\n",
    "    _, val_predictions = torch.max(val_outputs, 1)\n",
    "    print('True classes     :', y_val_tensor)\n",
    "    print('Model predictions:', val_predictions)\n",
    "    accuracy = (val_predictions == y_val_tensor).float().mean()\n",
    "    print(f'Validation Accuracy: {accuracy.item():.4f}')"
   ]
  },
  {
   "cell_type": "markdown",
   "metadata": {
    "collapsed": false
   },
   "source": [
    "#### Logistic Regression with data dimensionality reduction"
   ]
  },
  {
   "cell_type": "code",
   "execution_count": 26,
   "metadata": {
    "ExecuteTime": {
     "end_time": "2025-06-01T12:00:30.170245700Z",
     "start_time": "2025-06-01T12:00:30.146638900Z"
    },
    "collapsed": false
   },
   "outputs": [
    {
     "name": "stdout",
     "output_type": "stream",
     "text": [
      "(24, 883624)\n"
     ]
    }
   ],
   "source": [
    "# Reshape: (samples, 248, 3563) → (samples, 248 * 3563)\n",
    "X_train_flat = data_train.reshape(data_train.shape[0], -1)\n",
    "X_val_flat = data_val.reshape(data_val.shape[0], -1)\n",
    "print(np.shape(X_train_flat))"
   ]
  },
  {
   "cell_type": "code",
   "execution_count": 27,
   "metadata": {
    "ExecuteTime": {
     "end_time": "2025-06-01T12:00:34.611124400Z",
     "start_time": "2025-06-01T12:00:30.892583100Z"
    },
    "collapsed": false
   },
   "outputs": [],
   "source": [
    "from sklearn.decomposition import PCA\n",
    "\n",
    "# Reduce to 100 components (tune as needed)\n",
    "pca = PCA(n_components=10)\n",
    "X_train_pca = pca.fit_transform(X_train_flat)\n",
    "X_val_pca = pca.transform(X_val_flat)\n",
    "\n",
    "# Convert to PyTorch tensors for training\n",
    "X_train_tensor = torch.tensor(X_train_pca, dtype=torch.float32)\n",
    "X_val_tensor = torch.tensor(X_val_pca, dtype=torch.float32)"
   ]
  },
  {
   "cell_type": "code",
   "execution_count": 28,
   "metadata": {
    "ExecuteTime": {
     "end_time": "2025-06-01T12:01:06.306297700Z",
     "start_time": "2025-06-01T12:01:06.242409300Z"
    },
    "collapsed": false
   },
   "outputs": [
    {
     "name": "stdout",
     "output_type": "stream",
     "text": [
      "Epoch 10/30, Loss: 151.6016\n",
      "Epoch 20/30, Loss: 46.3917\n",
      "Epoch 30/30, Loss: 4.1963\n",
      "tensor([[-442.5660,  -62.6239,  -17.8599,  -24.3648],\n",
      "        [-487.5732,  -70.4470,  -32.4790,  -32.6195],\n",
      "        [-139.7711,  -25.7632,   98.5408,  -41.1185],\n",
      "        [-181.9325,  -34.4759,   62.9151, -108.9181],\n",
      "        [ 322.7901,  -53.7153,  161.0959,  142.3524],\n",
      "        [ 334.4841,  -53.8428,  121.8852,  148.1483],\n",
      "        [ -34.7504,  321.5293,   15.9632,   24.4952],\n",
      "        [ -23.3471,  313.1029,   11.5709,   51.3207]])\n",
      "True classes     : tensor([3, 3, 2, 2, 0, 0, 1, 1])\n",
      "Model predictions: tensor([2, 2, 2, 2, 0, 0, 1, 1])\n",
      "Validation Accuracy: 0.7500\n"
     ]
    }
   ],
   "source": [
    "input_dim = X_train_pca.shape[1]\n",
    "num_classes = len(set(y_train))\n",
    "model = MulticlassLogisticRegression(input_dim, num_classes)\n",
    "criterion = nn.CrossEntropyLoss()\n",
    "optimizer = torch.optim.Adam(model.parameters(), lr=0.01)\n",
    "num_epochs = 30\n",
    "\n",
    "for epoch in range(num_epochs):\n",
    "    model.train()\n",
    "    outputs = model(X_train_tensor)\n",
    "    loss = criterion(outputs, y_train_tensor)\n",
    "\n",
    "    optimizer.zero_grad()\n",
    "    loss.backward()\n",
    "    optimizer.step()\n",
    "\n",
    "    if (epoch + 1) % 10 == 0:\n",
    "        print(f'Epoch {epoch + 1}/{num_epochs}, Loss: {loss.item():.4f}')\n",
    "\n",
    "model.eval()\n",
    "with torch.no_grad():\n",
    "    val_outputs = model(X_val_tensor)\n",
    "    print(val_outputs)\n",
    "    _, val_predictions = torch.max(val_outputs, 1)\n",
    "    print('True classes     :', y_val_tensor)\n",
    "    print('Model predictions:', val_predictions)\n",
    "    accuracy = (val_predictions == y_val_tensor).float().mean()\n",
    "    print(f'Validation Accuracy: {accuracy.item():.4f}')"
   ]
  },
  {
   "cell_type": "markdown",
   "metadata": {
    "collapsed": false
   },
   "source": [
    "### t-SNE data visualization"
   ]
  },
  {
   "cell_type": "code",
   "execution_count": 29,
   "metadata": {
    "ExecuteTime": {
     "end_time": "2025-06-01T12:11:27.673588700Z",
     "start_time": "2025-06-01T12:11:23.645194600Z"
    },
    "collapsed": false
   },
   "outputs": [
    {
     "data": {
      "image/png": "[encoded data removed]",
      "text/plain": [
       "<Figure size 800x600 with 1 Axes>"
      ]
     },
     "metadata": {},
     "output_type": "display_data"
    }
   ],
   "source": [
    "from sklearn.manifold import TSNE\n",
    "import matplotlib.pyplot as plt\n",
    "\n",
    "# Combine train and val for visualization\n",
    "X_combined = np.vstack([X_train_flat, X_val_flat])\n",
    "labels_combined = labels_train + labels_val\n",
    "\n",
    "# Optional: PCA first for speed\n",
    "X_combined_pca = PCA(n_components=10).fit_transform(X_combined)\n",
    "\n",
    "# t-SNE\n",
    "tsne = TSNE(n_components=2, perplexity=5, random_state=42)\n",
    "X_tsne = tsne.fit_transform(X_combined_pca)\n",
    "\n",
    "# Plot\n",
    "plt.figure(figsize=(8, 6))\n",
    "for label in set(labels_combined):\n",
    "    idx = [i for i, l in enumerate(labels_combined) if l == label]\n",
    "    plt.scatter(X_tsne[idx, 0], X_tsne[idx, 1], label=label, alpha=0.7)\n",
    "plt.legend()\n",
    "plt.title(\"t-SNE visualization of EEG samples\")\n",
    "plt.xlabel(\"Component 1\")\n",
    "plt.ylabel(\"Component 2\")\n",
    "plt.grid(True)\n",
    "plt.tight_layout()\n",
    "plt.show()"
   ]
  },
  {
   "cell_type": "markdown",
   "metadata": {
    "collapsed": false
   },
   "source": [
    "#### Cross Dataset Preprocessing"
   ]
  },
  {
   "cell_type": "code",
   "execution_count": 30,
   "metadata": {
    "ExecuteTime": {
     "end_time": "2025-06-02T15:33:50.022743300Z",
     "start_time": "2025-06-02T15:32:25.070900400Z"
    },
    "collapsed": false
   },
   "outputs": [],
   "source": [
    "downsample_and_save('fpd/Cross/train', 'fpd/Cross/train_ds', DOWNSAMPLING_FACTOR, VERBOSE)\n",
    "cr_data_train, _ = concat_together('fpd/Cross/train_ds')\n",
    "cr_means, cr_stds = get_means(cr_data_train), get_stds(cr_data_train)\n",
    "normalize_and_save('fpd/Cross/train_ds', 'fpd/Cross/train_ds_norm', cr_means, cr_stds, VERBOSE)"
   ]
  },
  {
   "cell_type": "markdown",
   "metadata": {
    "collapsed": false
   },
   "source": [
    "#### Logistic Regression on Cross Dataset"
   ]
  },
  {
   "cell_type": "code",
   "execution_count": 31,
   "metadata": {
    "ExecuteTime": {
     "end_time": "2025-06-02T16:05:37.402823900Z",
     "start_time": "2025-06-02T16:05:30.717457200Z"
    },
    "collapsed": false
   },
   "outputs": [
    {
     "name": "stdout",
     "output_type": "stream",
     "text": [
      "(48, 248, 3563)\n",
      "(16, 248, 3563)\n",
      "['rest', 'rest', 'rest', 'rest', 'rest', 'rest', 'rest', 'rest', 'rest', 'rest', 'rest', 'rest', 'motor', 'motor', 'motor', 'motor', 'motor', 'motor', 'motor', 'motor', 'motor', 'motor', 'motor', 'motor', 'math', 'math', 'math', 'math', 'math', 'math', 'math', 'math', 'math', 'math', 'math', 'math', 'memory', 'memory', 'memory', 'memory', 'memory', 'memory', 'memory', 'memory', 'memory', 'memory', 'memory', 'memory']\n",
      "(48, 883624)\n",
      "[3 3 3 3 3 3 3 3 3 3 3 3 2 2 2 2 2 2 2 2 2 2 2 2 0 0 0 0 0 0 0 0 0 0 0 0 1\n",
      " 1 1 1 1 1 1 1 1 1 1 1]\n",
      "[3 3 3 3 2 2 2 2 0 0 0 0 1 1 1 1]\n",
      "Epoch 1/10, Train Loss: 1.7305, Val Loss: 0.3251\n",
      "Epoch 2/10, Train Loss: 0.4911, Val Loss: 0.1519\n",
      "Epoch 3/10, Train Loss: 0.2447, Val Loss: 0.0614\n",
      "Epoch 4/10, Train Loss: 0.1024, Val Loss: 0.0312\n",
      "Epoch 5/10, Train Loss: 0.0415, Val Loss: 0.0191\n",
      "Epoch 6/10, Train Loss: 0.0181, Val Loss: 0.0126\n",
      "Epoch 7/10, Train Loss: 0.0088, Val Loss: 0.0086\n",
      "Epoch 8/10, Train Loss: 0.0047, Val Loss: 0.0062\n",
      "Epoch 9/10, Train Loss: 0.0027, Val Loss: 0.0046\n",
      "Epoch 10/10, Train Loss: 0.0017, Val Loss: 0.0035\n",
      "tensor([[-6.5657e+01, -3.8130e+01, -7.1604e+01,  9.4316e+01],\n",
      "        [-7.3870e+01, -4.2304e+01, -8.0470e+01,  1.0621e+02],\n",
      "        [-2.4972e+01, -6.1448e+00, -3.7415e+01,  4.0007e+01],\n",
      "        [-2.7949e+01, -8.7133e+00, -4.2662e+01,  4.5799e+01],\n",
      "        [-1.4047e+01, -9.4640e+00,  4.0633e+01, -3.3013e+00],\n",
      "        [ 4.1065e+00, -2.2759e+00,  2.7296e+01, -1.3869e+01],\n",
      "        [ 7.2618e+00,  8.8609e+00,  1.6857e+01, -1.6120e+01],\n",
      "        [ 7.0101e+00,  9.7258e+00,  1.7364e+01, -1.6794e+01],\n",
      "        [ 2.1244e+01,  2.1610e+00,  1.2806e+01, -2.3040e+01],\n",
      "        [ 2.2476e+01, -1.0004e-01,  1.2915e+01, -2.3159e+01],\n",
      "        [ 1.4947e+01, -3.7049e+00,  1.0707e+01, -1.5503e+01],\n",
      "        [ 1.6534e+01, -2.2742e+00,  1.0215e+01, -1.6488e+01],\n",
      "        [-7.3995e+00,  9.9951e+00, -4.4667e+00,  5.0572e+00],\n",
      "        [-9.2028e+00,  1.0376e+01, -5.6257e+00,  6.9418e+00],\n",
      "        [-5.6265e+00,  1.1991e+01,  2.8170e+00, -1.3736e+00],\n",
      "        [-8.6470e+00,  1.1948e+01,  2.1346e+00,  5.9876e-01]])\n",
      "True classes     : tensor([3, 3, 3, 3, 2, 2, 2, 2, 0, 0, 0, 0, 1, 1, 1, 1])\n",
      "Model predictions: tensor([3, 3, 3, 3, 2, 2, 2, 2, 0, 0, 0, 0, 1, 1, 1, 1])\n",
      "Validation Accuracy: 1.0000\n"
     ]
    },
    {
     "data": {
      "image/png": "[encoded data removed]",
      "text/plain": [
       "<Figure size 800x600 with 1 Axes>"
      ]
     },
     "metadata": {},
     "output_type": "display_data"
    }
   ],
   "source": [
    "cr_data_train, cr_labels_train, cr_data_val, cr_labels_val = concat_as_samples('fpd/Cross/train_ds_norm')\n",
    "print(np.shape(cr_data_train))\n",
    "print(np.shape(cr_data_val))\n",
    "print(cr_labels_train)\n",
    "\n",
    "# Flatten the data\n",
    "X_train = cr_data_train.reshape(len(cr_data_train), -1)\n",
    "X_val = cr_data_val.reshape(len(cr_data_val), -1)\n",
    "print(np.shape(X_train))\n",
    "\n",
    "# Encode string labels to integers\n",
    "le = LabelEncoder()\n",
    "y_train = le.fit_transform(cr_labels_train)\n",
    "y_val = le.transform(cr_labels_val)\n",
    "print(y_train)\n",
    "print(y_val)\n",
    "\n",
    "# Convert to torch tensors\n",
    "X_train_tensor = torch.tensor(X_train, dtype=torch.float32)\n",
    "y_train_tensor = torch.tensor(y_train, dtype=torch.long)\n",
    "\n",
    "X_val_tensor = torch.tensor(X_val, dtype=torch.float32)\n",
    "y_val_tensor = torch.tensor(y_val, dtype=torch.long)\n",
    "\n",
    "input_dim = X_train.shape[1]\n",
    "num_classes = len(set(y_train))\n",
    "model = MulticlassLogisticRegression(input_dim, num_classes)\n",
    "criterion = nn.CrossEntropyLoss()\n",
    "optimizer = torch.optim.Adam(model.parameters(), lr=0.00001)\n",
    "num_epochs = 10\n",
    "\n",
    "for epoch in range(num_epochs):\n",
    "    model.train()\n",
    "    outputs = model(X_train_tensor)\n",
    "    loss = criterion(outputs, y_train_tensor)\n",
    "\n",
    "    optimizer.zero_grad()\n",
    "    loss.backward()\n",
    "    optimizer.step()\n",
    "\n",
    "    model.eval()\n",
    "    with torch.no_grad():\n",
    "        val_outputs = model(X_val_tensor)\n",
    "        val_loss = criterion(val_outputs, y_val_tensor)\n",
    "\n",
    "    if (epoch + 1) % 1 == 0:\n",
    "        print(f\"Epoch {epoch + 1}/{num_epochs}, Train Loss: {loss.item():.4f}, Val Loss: {val_loss.item():.4f}\")\n",
    "\n",
    "model.eval()\n",
    "with torch.no_grad():\n",
    "    val_outputs = model(X_val_tensor)\n",
    "    print(val_outputs)\n",
    "    _, val_predictions = torch.max(val_outputs, 1)\n",
    "    print('True classes     :', y_val_tensor)\n",
    "    print('Model predictions:', val_predictions)\n",
    "    accuracy = (val_predictions == y_val_tensor).float().mean()\n",
    "    print(f'Validation Accuracy: {accuracy.item():.4f}')\n",
    "\n",
    "# Combine train and val for visualization\n",
    "X_combined = np.vstack([X_train, X_val])\n",
    "labels_combined = labels_train + labels_val\n",
    "\n",
    "# Optional: PCA first for speed\n",
    "X_combined_pca = PCA(n_components=10).fit_transform(X_combined)\n",
    "\n",
    "# t-SNE\n",
    "tsne = TSNE(n_components=2, perplexity=5, random_state=42)\n",
    "X_tsne = tsne.fit_transform(X_combined_pca)\n",
    "\n",
    "# Plot\n",
    "plt.figure(figsize=(8, 6))\n",
    "for label in set(labels_combined):\n",
    "    idx = [i for i, l in enumerate(labels_combined) if l == label]\n",
    "    plt.scatter(X_tsne[idx, 0], X_tsne[idx, 1], label=label, alpha=0.7)\n",
    "plt.legend()\n",
    "plt.title(\"t-SNE visualization of EEG samples\")\n",
    "plt.xlabel(\"Component 1\")\n",
    "plt.ylabel(\"Component 2\")\n",
    "plt.grid(True)\n",
    "plt.tight_layout()\n",
    "plt.show()"
   ]
  },
  {
   "cell_type": "code",
   "execution_count": 39,
   "metadata": {
    "collapsed": false
   },
   "outputs": [],
   "source": [
    "import torch\n",
    "import torch.nn as nn\n",
    "import torch.optim as optim\n",
    "from torch.utils.data import TensorDataset, DataLoader\n",
    "from sklearn.preprocessing import LabelEncoder\n",
    "\n",
    "le = LabelEncoder()\n",
    "y_train = le.fit_transform(cr_labels_train)\n",
    "y_val = le.transform(cr_labels_val)\n",
    "num_classes = len(le.classes_)\n",
    "\n",
    "X_train_tensor = torch.tensor(cr_data_train, dtype=torch.float32)\n",
    "X_val_tensor = torch.tensor(cr_data_val, dtype=torch.float32)\n",
    "y_train_tensor = torch.tensor(y_train, dtype=torch.long)\n",
    "y_val_tensor = torch.tensor(y_val, dtype=torch.long)\n",
    "\n",
    "batch_size = 16\n",
    "train_ds = TensorDataset(X_train_tensor, y_train_tensor)\n",
    "val_ds = TensorDataset(X_val_tensor, y_val_tensor)\n",
    "train_loader = DataLoader(train_ds, batch_size=batch_size, shuffle=True)\n",
    "val_loader = DataLoader(val_ds, batch_size=batch_size, shuffle=False)\n",
    "\n",
    "class EEGConvNet(nn.Module):\n",
    "    def __init__(self, in_channels: int, num_classes: int):\n",
    "        super(EEGConvNet, self).__init__()\n",
    "        self.conv1 = nn.Conv1d(in_channels=in_channels, out_channels=64, kernel_size=3, padding=1)\n",
    "        self.bn1 = nn.BatchNorm1d(64)\n",
    "        self.act1 = nn.ReLU()\n",
    "        self.pool1 = nn.MaxPool1d(kernel_size=2)\n",
    "\n",
    "        self.conv2 = nn.Conv1d(in_channels=64, out_channels=128, kernel_size=3, padding=1)\n",
    "        self.bn2 = nn.BatchNorm1d(128)\n",
    "        self.act2 = nn.ReLU()\n",
    "        self.pool2 = nn.MaxPool1d(kernel_size=2)\n",
    "\n",
    "        self.conv3 = nn.Conv1d(in_channels=128, out_channels=256, kernel_size=3, padding=1)\n",
    "        self.bn3 = nn.BatchNorm1d(256)\n",
    "        self.act3 = nn.ReLU()\n",
    "        self.pool3 = nn.AdaptiveAvgPool1d(output_size=1)\n",
    "\n",
    "        self.dropout = nn.Dropout(p=0.5)\n",
    "        self.fc = nn.Linear(256, num_classes)\n",
    "\n",
    "    def forward(self, x):\n",
    "        x = self.conv1(x)\n",
    "        x = self.bn1(x)\n",
    "        x = self.act1(x)\n",
    "        x = self.pool1(x)\n",
    "\n",
    "        x = self.conv2(x)\n",
    "        x = self.bn2(x)\n",
    "        x = self.act2(x)\n",
    "        x = self.pool2(x)\n",
    "\n",
    "        x = self.conv3(x)\n",
    "        x = self.bn3(x)\n",
    "        x = self.act3(x)\n",
    "        x = self.pool3(x)\n",
    "\n",
    "        x = x.view(x.size(0), -1)\n",
    "        x = self.dropout(x)\n",
    "        x = self.fc(x)\n",
    "        return x"
   ]
  },
  {
   "cell_type": "code",
   "execution_count": 40,
   "metadata": {},
   "outputs": [
    {
     "name": "stdout",
     "output_type": "stream",
     "text": [
      "Epoch 1/10  Train Loss: 1.0609,  Val Loss: 1.0399,  Val Acc: 0.8750\n",
      "Epoch 2/10  Train Loss: 0.4521,  Val Loss: 0.6947,  Val Acc: 1.0000\n",
      "Epoch 3/10  Train Loss: 0.2837,  Val Loss: 0.4335,  Val Acc: 1.0000\n",
      "Epoch 4/10  Train Loss: 0.1107,  Val Loss: 0.2426,  Val Acc: 1.0000\n",
      "Epoch 5/10  Train Loss: 0.0796,  Val Loss: 0.1159,  Val Acc: 1.0000\n",
      "Epoch 6/10  Train Loss: 0.0434,  Val Loss: 0.0496,  Val Acc: 1.0000\n",
      "Epoch 7/10  Train Loss: 0.0323,  Val Loss: 0.0230,  Val Acc: 1.0000\n",
      "Epoch 8/10  Train Loss: 0.0666,  Val Loss: 0.0115,  Val Acc: 1.0000\n",
      "Epoch 9/10  Train Loss: 0.0242,  Val Loss: 0.0080,  Val Acc: 1.0000\n",
      "Epoch 10/10  Train Loss: 0.0319,  Val Loss: 0.0066,  Val Acc: 1.0000\n",
      "\n",
      "Final Validation Accuracy: 1.0000\n",
      "True classes     : tensor([3, 3, 3, 3, 2, 2, 2, 2, 0, 0, 0, 0, 1, 1, 1, 1])\n",
      "Model predictions: tensor([3, 3, 3, 3, 2, 2, 2, 2, 0, 0, 0, 0, 1, 1, 1, 1])\n"
     ]
    }
   ],
   "source": [
    "device = torch.device(\"cuda\" if torch.cuda.is_available() else \"cpu\")\n",
    "model = EEGConvNet(in_channels=248, num_classes=num_classes).to(device)\n",
    "criterion = nn.CrossEntropyLoss()\n",
    "optimizer = optim.Adam(model.parameters(), lr=1e-3)\n",
    "scheduler = optim.lr_scheduler.StepLR(optimizer, step_size=10, gamma=0.5)\n",
    "\n",
    "num_epochs = 10\n",
    "for epoch in range(num_epochs):\n",
    "    model.train()\n",
    "    running_loss = 0.0\n",
    "    for X_batch, y_batch in train_loader:\n",
    "        X_batch = X_batch.to(device)\n",
    "        y_batch = y_batch.to(device)\n",
    "        optimizer.zero_grad()\n",
    "        outputs = model(X_batch)\n",
    "        loss = criterion(outputs, y_batch)\n",
    "        loss.backward()\n",
    "        optimizer.step()\n",
    "        running_loss += loss.item() * X_batch.size(0)\n",
    "    epoch_train_loss = running_loss / len(train_loader.dataset)\n",
    "\n",
    "    model.eval()\n",
    "    val_loss = 0.0\n",
    "    correct = 0\n",
    "    total = 0\n",
    "    with torch.no_grad():\n",
    "        for X_batch, y_batch in val_loader:\n",
    "            X_batch = X_batch.to(device)\n",
    "            y_batch = y_batch.to(device)\n",
    "            outputs = model(X_batch)\n",
    "            loss = criterion(outputs, y_batch)\n",
    "            val_loss += loss.item() * X_batch.size(0)\n",
    "            _, preds = torch.max(outputs, dim=1)\n",
    "            correct += (preds == y_batch).sum().item()\n",
    "            total += y_batch.size(0)\n",
    "    epoch_val_loss = val_loss / len(val_loader.dataset)\n",
    "    val_accuracy = correct / total\n",
    "    scheduler.step()\n",
    "    print(f\"Epoch {epoch+1}/{num_epochs}  Train Loss: {epoch_train_loss:.4f},  Val Loss: {epoch_val_loss:.4f},  Val Acc: {val_accuracy:.4f}\")\n",
    "\n",
    "model.eval()\n",
    "all_preds = []\n",
    "all_trues = []\n",
    "with torch.no_grad():\n",
    "    for X_batch, y_batch in val_loader:\n",
    "        X_batch = X_batch.to(device)\n",
    "        y_batch = y_batch.to(device)\n",
    "        outputs = model(X_batch)\n",
    "        _, preds = torch.max(outputs, 1)\n",
    "        all_preds.append(preds.cpu())\n",
    "        all_trues.append(y_batch.cpu())\n",
    "\n",
    "all_preds = torch.cat(all_preds, dim=0)\n",
    "all_trues = torch.cat(all_trues, dim=0)\n",
    "final_acc = (all_preds == all_trues).float().mean().item()\n",
    "print(f\"\\nFinal Validation Accuracy: {final_acc:.4f}\")\n",
    "print(\"True classes     :\", all_trues)\n",
    "print(\"Model predictions:\", all_preds)"
   ]
  },
  {
   "cell_type": "code",
   "execution_count": null,
   "metadata": {},
   "outputs": [],
   "source": []
  }
 ],
 "metadata": {
  "kernelspec": {
   "display_name": ".venv",
   "language": "python",
   "name": "python3"
  },
  "language_info": {
   "codemirror_mode": {
    "name": "ipython",
    "version": 3
   },
   "file_extension": ".py",
   "mimetype": "text/x-python",
   "name": "python",
   "nbconvert_exporter": "python",
   "pygments_lexer": "ipython3",
   "version": "3.10.11"
  }
 },
 "nbformat": 4,
 "nbformat_minor": 0
}
