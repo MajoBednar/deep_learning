{
 "cells": [
  {
   "cell_type": "code",
   "execution_count": 1,
   "metadata": {
    "collapsed": true,
    "ExecuteTime": {
     "end_time": "2025-06-16T20:36:04.648931900Z",
     "start_time": "2025-06-16T20:35:29.292726400Z"
    }
   },
   "outputs": [],
   "source": [
    "import os\n",
    "import h5py\n",
    "import numpy as np\n",
    "import matplotlib.pyplot as plt\n",
    "from scipy.signal import decimate\n",
    "from sklearn.decomposition import PCA\n",
    "from sklearn.preprocessing import LabelEncoder\n",
    "from sklearn.manifold import TSNE\n",
    "\n",
    "import torch\n",
    "import torch.nn as nn\n",
    "import torch.optim as optim\n",
    "from torch.utils.data import TensorDataset, DataLoader"
   ]
  },
  {
   "cell_type": "code",
   "execution_count": 2,
   "metadata": {
    "collapsed": false,
    "ExecuteTime": {
     "end_time": "2025-06-16T20:36:04.648931900Z",
     "start_time": "2025-06-16T20:36:04.648931900Z"
    }
   },
   "outputs": [],
   "source": [
    "VERBOSE = 0  # constant for debugging, higher number means more printing\n",
    "TRAIN_VAL_SPLIT = 6  # number of train files per task, the rest for validation\n",
    "DOWNSAMPLING_FACTOR = 10\n",
    "DIR = ''  # Directory of Intra/Cross directories"
   ]
  },
  {
   "cell_type": "code",
   "execution_count": 3,
   "metadata": {
    "collapsed": false,
    "ExecuteTime": {
     "end_time": "2025-06-16T20:36:04.801992Z",
     "start_time": "2025-06-16T20:36:04.648931900Z"
    }
   },
   "outputs": [],
   "source": [
    "def log(message: tuple, verbose_true: int, verbose_min):\n",
    "    \"\"\"Helper print function, based on verbose params.\"\"\"\n",
    "    if verbose_true >= verbose_min:\n",
    "        for entry in message:\n",
    "            print(entry, end=' ')\n",
    "        print()"
   ]
  },
  {
   "cell_type": "code",
   "execution_count": 4,
   "metadata": {
    "collapsed": false,
    "ExecuteTime": {
     "end_time": "2025-06-16T20:36:04.933762600Z",
     "start_time": "2025-06-16T20:36:04.786362100Z"
    }
   },
   "outputs": [],
   "source": [
    "def load_data(filename):\n",
    "    \"\"\"Load data from .h5 file.\"\"\"\n",
    "    with h5py.File(filename, 'r') as f:\n",
    "        data = f[next(iter(f.keys()))][()]\n",
    "    return data"
   ]
  },
  {
   "cell_type": "code",
   "execution_count": 5,
   "metadata": {
    "collapsed": false,
    "ExecuteTime": {
     "end_time": "2025-06-16T20:36:05.048749Z",
     "start_time": "2025-06-16T20:36:04.908586900Z"
    }
   },
   "outputs": [],
   "source": [
    "def data_loader(input_dir: str) -> tuple[np.ndarray, str]:\n",
    "    \"\"\"Generator for loading data and its filename from all .h5 files in a directory.\"\"\"\n",
    "    for file in os.listdir(input_dir):\n",
    "        if not file.endswith('.h5'):\n",
    "            continue\n",
    "        path = os.path.join(input_dir, file)\n",
    "        data = load_data(path)\n",
    "        yield data, file"
   ]
  },
  {
   "cell_type": "code",
   "execution_count": 6,
   "metadata": {
    "collapsed": false,
    "ExecuteTime": {
     "end_time": "2025-06-16T20:36:05.163234300Z",
     "start_time": "2025-06-16T20:36:05.048749Z"
    }
   },
   "outputs": [],
   "source": [
    "def create_data_file(data, output_dir, filename: str):\n",
    "    \"\"\"Create .h5 file with given data.\"\"\"\n",
    "    os.makedirs(output_dir, exist_ok=True)\n",
    "    output_path = os.path.join(output_dir, filename)\n",
    "    with h5py.File(output_path, 'w') as f:\n",
    "        f.create_dataset(filename.rsplit('.', 1)[0], data=data)"
   ]
  },
  {
   "cell_type": "code",
   "execution_count": 7,
   "metadata": {
    "collapsed": false,
    "ExecuteTime": {
     "end_time": "2025-06-16T20:36:08.550283200Z",
     "start_time": "2025-06-16T20:36:05.163234300Z"
    }
   },
   "outputs": [],
   "source": [
    "def get_file_info(filename: str) -> tuple[str, int, int]:\n",
    "    \"\"\"Extract information from the file name.\"\"\"\n",
    "    filename = filename.rsplit('.', 1)[0].split('_')\n",
    "    task, person_id, window = filename[-3], filename[-2], filename[-1]\n",
    "    return task, int(window), int(person_id)"
   ]
  },
  {
   "cell_type": "markdown",
   "metadata": {
    "collapsed": false
   },
   "source": [
    "### Preprocessing"
   ]
  },
  {
   "cell_type": "code",
   "execution_count": 8,
   "metadata": {
    "collapsed": false,
    "ExecuteTime": {
     "end_time": "2025-06-16T20:36:08.565882Z",
     "start_time": "2025-06-16T20:36:05.358793900Z"
    }
   },
   "outputs": [],
   "source": [
    "def downsample(data, factor):\n",
    "    \"\"\"Downsample data based on factor.\"\"\"\n",
    "    return decimate(data, factor, axis=1)"
   ]
  },
  {
   "cell_type": "code",
   "execution_count": 9,
   "metadata": {
    "collapsed": false,
    "ExecuteTime": {
     "end_time": "2025-06-16T20:36:08.565882Z",
     "start_time": "2025-06-16T20:36:08.550283200Z"
    }
   },
   "outputs": [],
   "source": [
    "def get_means(data) -> np.ndarray:\n",
    "    \"\"\"Get means for every sensor dimension.\"\"\"\n",
    "    return np.mean(data, axis=1, keepdims=True)"
   ]
  },
  {
   "cell_type": "code",
   "execution_count": 10,
   "metadata": {
    "collapsed": false,
    "ExecuteTime": {
     "end_time": "2025-06-16T20:36:08.565882Z",
     "start_time": "2025-06-16T20:36:08.565882Z"
    }
   },
   "outputs": [],
   "source": [
    "def get_stds(data) -> np.ndarray:\n",
    "    \"\"\"Get standard deviations for every sensor dimension.\"\"\"\n",
    "    return np.std(data, axis=1, keepdims=True)"
   ]
  },
  {
   "cell_type": "code",
   "execution_count": 11,
   "metadata": {
    "collapsed": false,
    "ExecuteTime": {
     "end_time": "2025-06-16T20:36:08.565882Z",
     "start_time": "2025-06-16T20:36:08.565882Z"
    }
   },
   "outputs": [],
   "source": [
    "def z_score_normalize(data, means, stds):\n",
    "    \"\"\"Z-score normalization for every sensor dimension.\"\"\"\n",
    "    return (data - means) / stds"
   ]
  },
  {
   "cell_type": "code",
   "execution_count": 12,
   "metadata": {
    "collapsed": false,
    "ExecuteTime": {
     "end_time": "2025-06-16T20:36:08.565882Z",
     "start_time": "2025-06-16T20:36:08.565882Z"
    }
   },
   "outputs": [],
   "source": [
    "def downsample_and_save(input_dir, output_dir, factor, verbose):\n",
    "    \"\"\"Downsample data in each file and save them in a new file.\"\"\"\n",
    "    for data, file in data_loader(input_dir):\n",
    "        data = downsample(data, factor)\n",
    "        create_data_file(data, output_dir, f\"ds_{file}\")"
   ]
  },
  {
   "cell_type": "code",
   "execution_count": 13,
   "metadata": {
    "collapsed": false,
    "ExecuteTime": {
     "end_time": "2025-06-16T20:36:08.565882Z",
     "start_time": "2025-06-16T20:36:08.565882Z"
    }
   },
   "outputs": [],
   "source": [
    "def normalize_and_save(input_dir, output_dir, means, stds, verbose):\n",
    "    \"\"\"Normalize data in each file and save them in a new file.\"\"\"\n",
    "    for data, file in data_loader(input_dir):\n",
    "        data = z_score_normalize(data, means, stds)\n",
    "        create_data_file(data, output_dir, f\"norm_{file}\")"
   ]
  },
  {
   "cell_type": "code",
   "execution_count": 14,
   "metadata": {
    "collapsed": false,
    "ExecuteTime": {
     "end_time": "2025-06-16T20:36:08.565882Z",
     "start_time": "2025-06-16T20:36:08.565882Z"
    }
   },
   "outputs": [],
   "source": [
    "def concat_together(input_dir, train_val_split=TRAIN_VAL_SPLIT):\n",
    "    \"\"\"\n",
    "    Concatenate data from files into a single time window of sensor readings.\n",
    "    Also split to a train and validation sets.\n",
    "    \"\"\"\n",
    "    train_data = None\n",
    "    val_data = None\n",
    "    for data, file in data_loader(input_dir):\n",
    "        _, window, _ = get_file_info(file)\n",
    "        if window <= train_val_split and train_data is None:\n",
    "            train_data = data\n",
    "        elif window <= train_val_split:\n",
    "            train_data = np.concat((train_data, data), axis=1)\n",
    "        elif val_data is None:\n",
    "            val_data = data\n",
    "        else:\n",
    "            val_data = np.concat((train_data, data), axis=1)\n",
    "    return train_data, val_data"
   ]
  },
  {
   "cell_type": "code",
   "execution_count": 15,
   "metadata": {
    "collapsed": false,
    "ExecuteTime": {
     "end_time": "2025-06-16T20:36:09.194010Z",
     "start_time": "2025-06-16T20:36:08.565882Z"
    }
   },
   "outputs": [],
   "source": [
    "def concat_as_samples(input_dir, train_val_split=TRAIN_VAL_SPLIT):\n",
    "    \"\"\"\n",
    "    Concatenate data from files, treating each data file as a window sample\n",
    "    of sensor readings. Also split them to train and validation sets.\n",
    "    \"\"\"\n",
    "    samples_train = []\n",
    "    tasks_train = []\n",
    "    ids_train = []\n",
    "    samples_val = []\n",
    "    tasks_val = []\n",
    "    ids_val = []\n",
    "    for data, file in data_loader(input_dir):\n",
    "        task, window, person_id = get_file_info(file)\n",
    "        if window <= train_val_split:\n",
    "            samples_train.append(data)\n",
    "            tasks_train.append(task)\n",
    "            ids_train.append(person_id)\n",
    "        else:\n",
    "            samples_val.append(data)\n",
    "            tasks_val.append(task)\n",
    "            ids_val.append(person_id)\n",
    "    if not samples_val:\n",
    "        return np.stack(samples_train), tasks_train\n",
    "    return np.stack(samples_train), tasks_train, ids_train, np.stack(samples_val), tasks_val, ids_val"
   ]
  },
  {
   "cell_type": "code",
   "execution_count": 18,
   "outputs": [],
   "source": [
    "downsample_and_save(f'{DIR}Intra/train', f'{DIR}Intra/train_ds', DOWNSAMPLING_FACTOR, VERBOSE)\n",
    "downsample_and_save(f'{DIR}Cross/train', f'{DIR}Cross/train_ds', DOWNSAMPLING_FACTOR, VERBOSE)"
   ],
   "metadata": {
    "collapsed": false,
    "ExecuteTime": {
     "end_time": "2025-06-13T10:20:37.206012800Z",
     "start_time": "2025-06-13T10:20:10.814679900Z"
    }
   }
  },
  {
   "cell_type": "markdown",
   "source": [
    "### t-SNE Data Visualization"
   ],
   "metadata": {
    "collapsed": false
   }
  },
  {
   "cell_type": "code",
   "execution_count": 49,
   "outputs": [],
   "source": [
    "def make_tsne(X_train, y_train, ids_train, X_val, y_val, ids_val):\n",
    "    # Flatten data\n",
    "    X_train_flat = X_train.reshape(X_train.shape[0], -1)\n",
    "    X_val_flat = X_val.reshape(X_val.shape[0], -1)\n",
    "    print(np.shape(X_train_flat))\n",
    "\n",
    "    # Combine train and val for visualization\n",
    "    X_combined = np.vstack([X_train_flat, X_val_flat])\n",
    "    labels_combined = y_train + y_val\n",
    "    ids_combined = ids_train + ids_val\n",
    "\n",
    "    # Optional: PCA first for speed\n",
    "    X_combined_pca = PCA(n_components=10).fit_transform(X_combined)\n",
    "\n",
    "    # t-SNE\n",
    "    tsne = TSNE(n_components=2, perplexity=5)\n",
    "    X_tsne = tsne.fit_transform(X_combined_pca)\n",
    "\n",
    "    return X_tsne, labels_combined, ids_combined"
   ],
   "metadata": {
    "collapsed": false,
    "ExecuteTime": {
     "end_time": "2025-06-13T11:05:42.714884500Z",
     "start_time": "2025-06-13T11:05:42.688198400Z"
    }
   }
  },
  {
   "cell_type": "code",
   "execution_count": 53,
   "outputs": [],
   "source": [
    "def plot_tsne(X_tsne, labels_combined, ids_combined):\n",
    "    plt.figure(figsize=(8, 6))\n",
    "    subjects = list(set(ids_combined))\n",
    "    markers = ['o', 's']\n",
    "\n",
    "    for label in set(labels_combined):\n",
    "        for i, subject in enumerate(subjects):\n",
    "            idx = [j for j, (l, s) in enumerate(zip(labels_combined, ids_combined))\n",
    "                   if l == label and s == subject]\n",
    "            plt.scatter(\n",
    "                X_tsne[idx, 0], X_tsne[idx, 1],\n",
    "                label=f\"{label.capitalize()}, Subject {subject}\",\n",
    "                alpha=0.7,\n",
    "                marker=markers[i % len(markers)],\n",
    "                edgecolors='k'  # Optional: black edge for contrast\n",
    "            )\n",
    "\n",
    "    plt.legend()\n",
    "    plt.title(\"t-SNE visualization of MEG samples\")\n",
    "    plt.xlabel(\"Component 1\")\n",
    "    plt.ylabel(\"Component 2\")\n",
    "    plt.grid(True)\n",
    "    plt.tight_layout()\n",
    "    plt.show()"
   ],
   "metadata": {
    "collapsed": false,
    "ExecuteTime": {
     "end_time": "2025-06-13T11:07:09.276644900Z",
     "start_time": "2025-06-13T11:07:09.260467400Z"
    }
   }
  },
  {
   "cell_type": "code",
   "execution_count": 54,
   "outputs": [
    {
     "name": "stdout",
     "output_type": "stream",
     "text": [
      "(24, 248, 3563)\n",
      "(8, 248, 3563)\n",
      "['rest', 'rest', 'rest', 'rest', 'rest', 'rest', 'motor', 'motor', 'motor', 'motor', 'motor', 'motor', 'math', 'math', 'math', 'math', 'math', 'math', 'memory', 'memory', 'memory', 'memory', 'memory', 'memory']\n",
      "(24, 883624)\n"
     ]
    },
    {
     "data": {
      "text/plain": "<Figure size 800x600 with 1 Axes>",
      "image/png": "[encoded data removed]"
     },
     "metadata": {},
     "output_type": "display_data"
    }
   ],
   "source": [
    "data_train, _ = concat_together(f'{DIR}Intra/train_ds')\n",
    "means, stds = get_means(data_train), get_stds(data_train)\n",
    "normalize_and_save(f'{DIR}Intra/train_ds', f'{DIR}Intra/train_ds_norm', means, stds, VERBOSE)\n",
    "data_train, labels_train, ids_train, data_val, labels_val, ids_val = \\\n",
    "    concat_as_samples(f'{DIR}Intra/train_ds_norm')\n",
    "print(np.shape(data_train))\n",
    "print(np.shape(data_val))\n",
    "print(labels_train)\n",
    "\n",
    "tsne, labels, ids = make_tsne(data_train, labels_train, ids_train, data_val, labels_val, ids_val)\n",
    "plot_tsne(tsne, labels, ids)"
   ],
   "metadata": {
    "collapsed": false,
    "ExecuteTime": {
     "end_time": "2025-06-13T11:07:16.222496300Z",
     "start_time": "2025-06-13T11:07:10.509229600Z"
    }
   }
  },
  {
   "cell_type": "code",
   "execution_count": 56,
   "outputs": [
    {
     "name": "stdout",
     "output_type": "stream",
     "text": [
      "(48, 248, 3563)\n",
      "(16, 248, 3563)\n",
      "['rest', 'rest', 'rest', 'rest', 'rest', 'rest', 'rest', 'rest', 'rest', 'rest', 'rest', 'rest', 'motor', 'motor', 'motor', 'motor', 'motor', 'motor', 'motor', 'motor', 'motor', 'motor', 'motor', 'motor', 'math', 'math', 'math', 'math', 'math', 'math', 'math', 'math', 'math', 'math', 'math', 'math', 'memory', 'memory', 'memory', 'memory', 'memory', 'memory', 'memory', 'memory', 'memory', 'memory', 'memory', 'memory']\n",
      "(48, 883624)\n"
     ]
    },
    {
     "data": {
      "text/plain": "<Figure size 800x600 with 1 Axes>",
      "image/png": "[encoded data removed]"
     },
     "metadata": {},
     "output_type": "display_data"
    }
   ],
   "source": [
    "cr_data_train, _ = concat_together(f'{DIR}Cross/train_ds')\n",
    "cr_means, cr_stds = get_means(cr_data_train), get_stds(cr_data_train)\n",
    "normalize_and_save(f'{DIR}Cross/train_ds', f'{DIR}Cross/train_ds_norm', cr_means, cr_stds, VERBOSE)\n",
    "cr_data_train, cr_labels_train, cr_ids_train, cr_data_val, cr_labels_val, cr_ids_val \\\n",
    "    = concat_as_samples(f'{DIR}Cross/train_ds_norm')\n",
    "print(np.shape(cr_data_train))\n",
    "print(np.shape(cr_data_val))\n",
    "print(cr_labels_train)\n",
    "\n",
    "tsne, labels, ids = make_tsne(\n",
    "    cr_data_train, cr_labels_train, cr_ids_train, cr_data_val, cr_labels_val, cr_ids_val\n",
    ")\n",
    "plot_tsne(tsne, labels, ids)"
   ],
   "metadata": {
    "collapsed": false,
    "ExecuteTime": {
     "end_time": "2025-06-13T11:07:49.540499700Z",
     "start_time": "2025-06-13T11:07:43.300186500Z"
    }
   }
  },
  {
   "cell_type": "markdown",
   "source": [
    "#### Multiclass Logistic Regression"
   ],
   "metadata": {
    "collapsed": false
   }
  },
  {
   "cell_type": "code",
   "execution_count": 60,
   "outputs": [],
   "source": [
    "def prepare_data(X_train, y_train, X_val, y_val):\n",
    "    # Flatten the data\n",
    "    X_train_flat = X_train.reshape(len(X_train), -1)\n",
    "    X_val_flat = X_val.reshape(len(X_val), -1)\n",
    "    print(np.shape(X_train_flat))\n",
    "\n",
    "    # Encode string labels to integers\n",
    "    le = LabelEncoder()\n",
    "    y_train = le.fit_transform(y_train)\n",
    "    y_val = le.transform(y_val)\n",
    "    print(y_train)\n",
    "    print(y_val)\n",
    "\n",
    "    # Convert to torch tensors\n",
    "    X_train_tensor = torch.tensor(X_train_flat, dtype=torch.float32)\n",
    "    y_train_tensor = torch.tensor(y_train, dtype=torch.long)\n",
    "\n",
    "    X_val_tensor = torch.tensor(X_val_flat, dtype=torch.float32)\n",
    "    y_val_tensor = torch.tensor(y_val, dtype=torch.long)\n",
    "\n",
    "    return X_train_tensor, y_train_tensor, X_val_tensor, y_val_tensor"
   ],
   "metadata": {
    "collapsed": false,
    "ExecuteTime": {
     "end_time": "2025-06-13T11:46:23.022218300Z",
     "start_time": "2025-06-13T11:46:23.006112Z"
    }
   }
  },
  {
   "cell_type": "code",
   "execution_count": 61,
   "outputs": [],
   "source": [
    "class MulticlassLogisticRegression(nn.Module):\n",
    "    def __init__(self, input_dim, num_classes):\n",
    "        super(MulticlassLogisticRegression, self).__init__()\n",
    "        self.linear = nn.Linear(input_dim, num_classes)\n",
    "\n",
    "    def forward(self, x):\n",
    "        return self.linear(x)  # No softmax here; CrossEntropyLoss does it"
   ],
   "metadata": {
    "collapsed": false,
    "ExecuteTime": {
     "end_time": "2025-06-13T11:46:23.807926900Z",
     "start_time": "2025-06-13T11:46:23.806406400Z"
    }
   }
  },
  {
   "cell_type": "code",
   "execution_count": 62,
   "outputs": [],
   "source": [
    "def train_lr(model, X_train_tensor, y_train_tensor, X_val_tensor, y_val_tensor, num_epochs, lr):\n",
    "    criterion = nn.CrossEntropyLoss()\n",
    "    optimizer = torch.optim.Adam(model.parameters(), lr=lr)\n",
    "\n",
    "    for epoch in range(num_epochs):\n",
    "        model.train()\n",
    "        outputs = model(X_train_tensor)\n",
    "        loss = criterion(outputs, y_train_tensor)\n",
    "\n",
    "        optimizer.zero_grad()\n",
    "        loss.backward()\n",
    "        optimizer.step()\n",
    "\n",
    "        model.eval()\n",
    "        with torch.no_grad():\n",
    "            val_outputs = model(X_val_tensor)\n",
    "            val_loss = criterion(val_outputs, y_val_tensor)\n",
    "\n",
    "        if (epoch + 1) % 1 == 0:\n",
    "            print(f\"Epoch {epoch + 1}/{num_epochs}, Train Loss: {loss.item():.4f}, Val Loss: {val_loss.item():.4f}\")"
   ],
   "metadata": {
    "collapsed": false,
    "ExecuteTime": {
     "end_time": "2025-06-13T11:46:25.717889Z",
     "start_time": "2025-06-13T11:46:25.691552900Z"
    }
   }
  },
  {
   "cell_type": "code",
   "execution_count": 88,
   "outputs": [],
   "source": [
    "def evaluate_model(model, X_eval_tensor, y_eval_tensor):\n",
    "    model.eval()\n",
    "    with torch.no_grad():\n",
    "        val_outputs = model(X_eval_tensor)\n",
    "        print(val_outputs)\n",
    "        _, val_predictions = torch.max(val_outputs, 1)\n",
    "        print('True classes     :', y_eval_tensor)\n",
    "        print('Model predictions:', val_predictions)\n",
    "        matches = val_predictions == y_eval_tensor\n",
    "        accuracy = matches.float().mean()\n",
    "        print(f'Validation Accuracy: {accuracy.item():.4f}')"
   ],
   "metadata": {
    "collapsed": false,
    "ExecuteTime": {
     "end_time": "2025-06-13T12:24:13.356081900Z",
     "start_time": "2025-06-13T12:24:13.334030100Z"
    }
   }
  },
  {
   "cell_type": "markdown",
   "source": [
    "#### Logistic Regression on Intra Dataset"
   ],
   "metadata": {
    "collapsed": false
   }
  },
  {
   "cell_type": "code",
   "execution_count": 89,
   "outputs": [
    {
     "name": "stdout",
     "output_type": "stream",
     "text": [
      "(24, 883624)\n",
      "[3 3 3 3 3 3 2 2 2 2 2 2 0 0 0 0 0 0 1 1 1 1 1 1]\n",
      "[3 3 2 2 0 0 1 1]\n",
      "Epoch 1/3, Train Loss: 1.6603, Val Loss: 0.0000\n",
      "Epoch 2/3, Train Loss: 0.0000, Val Loss: 0.0000\n",
      "Epoch 3/3, Train Loss: 0.0000, Val Loss: 0.0000\n",
      "tensor([[-34916.3242, -21126.8535, -32688.9395,  39808.1953],\n",
      "        [-38562.7812, -22744.3184, -37429.9922,  44175.8359],\n",
      "        [  6005.5928,   3692.0815,  15386.8301, -11139.1797],\n",
      "        [  6288.2271,   4548.2456,  15673.1826, -11580.3271],\n",
      "        [ 11813.7324,    603.2658,   3430.4832,  -8696.4570],\n",
      "        [ 11851.0205,   1310.9561,   3160.3965,  -8951.1084],\n",
      "        [  3471.4346,   9213.7471,  -2179.0405,  -3950.1755],\n",
      "        [  3092.6499,   8448.5684,  -2208.0503,  -3434.1748]])\n",
      "True classes     : tensor([3, 3, 2, 2, 0, 0, 1, 1])\n",
      "Model predictions: tensor([3, 3, 2, 2, 0, 0, 1, 1])\n",
      "Validation Accuracy: 1.0000\n"
     ]
    }
   ],
   "source": [
    "data_train, _ = concat_together(f'{DIR}Intra/train_ds')\n",
    "means, stds = get_means(data_train), get_stds(data_train)\n",
    "normalize_and_save(f'{DIR}Intra/train_ds', f'{DIR}Intra/train_ds_norm', means, stds, VERBOSE)\n",
    "data_train, labels_train, _, data_val, labels_val, _ = \\\n",
    "    concat_as_samples(f'{DIR}Intra/train_ds_norm')\n",
    "X_train, y_train, X_val, y_val = prepare_data(data_train, labels_train, data_val, labels_val)\n",
    "model = MulticlassLogisticRegression(X_train.shape[1], len(set(labels_train)))\n",
    "train_lr(model, X_train, y_train, X_val, y_val, num_epochs=3, lr=0.01)\n",
    "evaluate_model(model, X_val, y_val)"
   ],
   "metadata": {
    "collapsed": false,
    "ExecuteTime": {
     "end_time": "2025-06-13T12:24:15.129069800Z",
     "start_time": "2025-06-13T12:24:14.772413Z"
    }
   }
  },
  {
   "cell_type": "markdown",
   "metadata": {
    "collapsed": false
   },
   "source": [
    "#### Logistic Regression on Cross Dataset"
   ]
  },
  {
   "cell_type": "code",
   "execution_count": 90,
   "metadata": {
    "collapsed": false,
    "ExecuteTime": {
     "end_time": "2025-06-13T12:24:21.790768700Z",
     "start_time": "2025-06-13T12:24:20.986456Z"
    }
   },
   "outputs": [
    {
     "name": "stdout",
     "output_type": "stream",
     "text": [
      "(48, 883624)\n",
      "[3 3 3 3 3 3 3 3 3 3 3 3 2 2 2 2 2 2 2 2 2 2 2 2 0 0 0 0 0 0 0 0 0 0 0 0 1\n",
      " 1 1 1 1 1 1 1 1 1 1 1]\n",
      "[3 3 3 3 2 2 2 2 0 0 0 0 1 1 1 1]\n",
      "Epoch 1/10, Train Loss: 1.4949, Val Loss: 0.3591\n",
      "Epoch 2/10, Train Loss: 0.3633, Val Loss: 0.1723\n",
      "Epoch 3/10, Train Loss: 0.1438, Val Loss: 0.0877\n",
      "Epoch 4/10, Train Loss: 0.0524, Val Loss: 0.0517\n",
      "Epoch 5/10, Train Loss: 0.0210, Val Loss: 0.0326\n",
      "Epoch 6/10, Train Loss: 0.0096, Val Loss: 0.0216\n",
      "Epoch 7/10, Train Loss: 0.0050, Val Loss: 0.0149\n",
      "Epoch 8/10, Train Loss: 0.0028, Val Loss: 0.0107\n",
      "Epoch 9/10, Train Loss: 0.0017, Val Loss: 0.0079\n",
      "Epoch 10/10, Train Loss: 0.0011, Val Loss: 0.0061\n",
      "tensor([[-62.3009, -56.1168, -74.7760,  94.4192],\n",
      "        [-69.5079, -63.6124, -83.9150, 106.1340],\n",
      "        [-28.2869,  -9.3665, -36.1667,  41.3350],\n",
      "        [-31.3180, -12.6385, -41.0935,  47.1611],\n",
      "        [-12.8618,   0.5014,  42.1106,   0.7677],\n",
      "        [  2.7383,   2.3865,  27.1404, -13.2999],\n",
      "        [  6.0641,  10.9438,  17.1120, -16.6168],\n",
      "        [  5.7885,  11.5140,  17.9217, -17.1050],\n",
      "        [ 21.5700,   4.6260,  12.2937, -24.2288],\n",
      "        [ 22.8726,   2.3743,  12.4287, -24.6601],\n",
      "        [ 15.6060,  -0.7948,  10.6152, -14.9005],\n",
      "        [ 16.8987,   0.7622,   9.5029, -16.3595],\n",
      "        [ -6.8346,   8.9374,  -4.6458,   4.7452],\n",
      "        [ -8.5599,   8.9707,  -5.8299,   6.3520],\n",
      "        [ -5.8409,  12.4927,   4.6597,  -0.9954],\n",
      "        [ -8.7107,  12.3674,   4.5428,   1.3509]])\n",
      "True classes     : tensor([3, 3, 3, 3, 2, 2, 2, 2, 0, 0, 0, 0, 1, 1, 1, 1])\n",
      "Model predictions: tensor([3, 3, 3, 3, 2, 2, 2, 2, 0, 0, 0, 0, 1, 1, 1, 1])\n",
      "Validation Accuracy: 1.0000\n"
     ]
    }
   ],
   "source": [
    "cr_data_train, _ = concat_together(f'{DIR}Cross/train_ds')\n",
    "cr_means, cr_stds = get_means(cr_data_train), get_stds(cr_data_train)\n",
    "normalize_and_save(f'{DIR}Cross/train_ds', f'{DIR}Cross/train_ds_norm', cr_means, cr_stds, VERBOSE)\n",
    "cr_data_train, cr_labels_train, _, cr_data_val, cr_labels_val, _ = \\\n",
    "    concat_as_samples(f'{DIR}Cross/train_ds_norm')\n",
    "X_train, y_train, X_val, y_val = prepare_data(cr_data_train, cr_labels_train, cr_data_val, cr_labels_val)\n",
    "model = MulticlassLogisticRegression(X_train.shape[1], len(set(cr_labels_train)))\n",
    "train_lr(model, X_train, y_train, X_val, y_val, num_epochs=10, lr=0.00001)\n",
    "evaluate_model(model, X_val, y_val)"
   ]
  },
  {
   "cell_type": "markdown",
   "source": [
    "### EEGnet"
   ],
   "metadata": {
    "collapsed": false
   }
  },
  {
   "cell_type": "code",
   "execution_count": 16,
   "metadata": {
    "collapsed": false,
    "ExecuteTime": {
     "end_time": "2025-06-16T20:36:09.194010Z",
     "start_time": "2025-06-16T20:36:08.565882Z"
    }
   },
   "outputs": [],
   "source": [
    "class EEGConvNet(nn.Module):\n",
    "    def __init__(self, in_channels: int, num_classes: int):\n",
    "        super(EEGConvNet, self).__init__()\n",
    "        self.conv1 = nn.Conv1d(in_channels=in_channels, out_channels=64, kernel_size=3, padding=1)\n",
    "        self.bn1 = nn.BatchNorm1d(64)\n",
    "        self.act1 = nn.ReLU()\n",
    "        self.pool1 = nn.MaxPool1d(kernel_size=2)\n",
    "\n",
    "        self.conv2 = nn.Conv1d(in_channels=64, out_channels=128, kernel_size=3, padding=1)\n",
    "        self.bn2 = nn.BatchNorm1d(128)\n",
    "        self.act2 = nn.ReLU()\n",
    "        self.pool2 = nn.MaxPool1d(kernel_size=2)\n",
    "\n",
    "        self.conv3 = nn.Conv1d(in_channels=128, out_channels=256, kernel_size=3, padding=1)\n",
    "        self.bn3 = nn.BatchNorm1d(256)\n",
    "        self.act3 = nn.ReLU()\n",
    "        self.pool3 = nn.AdaptiveAvgPool1d(output_size=1)\n",
    "\n",
    "        self.dropout = nn.Dropout(p=0.5)\n",
    "        self.fc = nn.Linear(256, num_classes)\n",
    "\n",
    "    def forward(self, x):\n",
    "        x = self.conv1(x)\n",
    "        x = self.bn1(x)\n",
    "        x = self.act1(x)\n",
    "        x = self.pool1(x)\n",
    "\n",
    "        x = self.conv2(x)\n",
    "        x = self.bn2(x)\n",
    "        x = self.act2(x)\n",
    "        x = self.pool2(x)\n",
    "\n",
    "        x = self.conv3(x)\n",
    "        x = self.bn3(x)\n",
    "        x = self.act3(x)\n",
    "        x = self.pool3(x)\n",
    "\n",
    "        x = x.view(x.size(0), -1)\n",
    "        x = self.dropout(x)\n",
    "        x = self.fc(x)\n",
    "        return x"
   ]
  },
  {
   "cell_type": "code",
   "execution_count": 22,
   "metadata": {
    "ExecuteTime": {
     "end_time": "2025-06-16T20:47:59.417895200Z",
     "start_time": "2025-06-16T20:47:59.371784400Z"
    }
   },
   "outputs": [],
   "source": [
    "def train_eegnet(train_loader, val_loader, num_classes, num_epochs=10, lr=1e-3, testing=False):\n",
    "    device = torch.device(\"cuda\" if torch.cuda.is_available() else \"cpu\")\n",
    "    model = EEGConvNet(in_channels=248, num_classes=num_classes).to(device)\n",
    "    criterion = nn.CrossEntropyLoss()\n",
    "    optimizer = optim.Adam(model.parameters(), lr=lr)\n",
    "    scheduler = optim.lr_scheduler.StepLR(optimizer, step_size=10, gamma=0.5)\n",
    "\n",
    "    for epoch in range(num_epochs):\n",
    "        model.train()\n",
    "        running_loss = 0.0\n",
    "        for X_batch, y_batch in train_loader:\n",
    "            X_batch = X_batch.to(device)\n",
    "            y_batch = y_batch.to(device)\n",
    "            optimizer.zero_grad()\n",
    "            outputs = model(X_batch)\n",
    "            loss = criterion(outputs, y_batch)\n",
    "            loss.backward()\n",
    "            optimizer.step()\n",
    "            running_loss += loss.item() * X_batch.size(0)\n",
    "        epoch_train_loss = running_loss / len(train_loader.dataset)\n",
    "\n",
    "        if testing is False:\n",
    "            model.eval()\n",
    "            val_loss = 0.0\n",
    "            correct = 0\n",
    "            total = 0\n",
    "            with torch.no_grad():\n",
    "                for X_batch, y_batch in val_loader:\n",
    "                    X_batch = X_batch.to(device)\n",
    "                    y_batch = y_batch.to(device)\n",
    "                    outputs = model(X_batch)\n",
    "                    loss = criterion(outputs, y_batch)\n",
    "                    val_loss += loss.item() * X_batch.size(0)\n",
    "                    _, preds = torch.max(outputs, dim=1)\n",
    "                    matches = preds == y_batch\n",
    "                    correct += matches.sum().item()\n",
    "                    total += y_batch.size(0)\n",
    "            epoch_val_loss = val_loss / len(val_loader.dataset)\n",
    "            val_accuracy = correct / total\n",
    "            scheduler.step()\n",
    "            print(f\"Epoch {epoch+1}/{num_epochs}  Train Loss: {epoch_train_loss:.4f},  Val Loss: {epoch_val_loss:.4f},  Val Acc: {val_accuracy:.4f}\")\n",
    "\n",
    "    model.eval()\n",
    "    all_preds = []\n",
    "    all_trues = []\n",
    "    with torch.no_grad():\n",
    "        for X_batch, y_batch in val_loader:\n",
    "            X_batch = X_batch.to(device)\n",
    "            y_batch = y_batch.to(device)\n",
    "            outputs = model(X_batch)\n",
    "            if testing is False:\n",
    "                print(outputs)\n",
    "            _, preds = torch.max(outputs, 1)\n",
    "            all_preds.append(preds.cpu())\n",
    "            all_trues.append(y_batch.cpu())\n",
    "\n",
    "    all_preds = torch.cat(all_preds, dim=0)\n",
    "    all_trues = torch.cat(all_trues, dim=0)\n",
    "    matches = all_preds == all_trues\n",
    "    final_acc = matches.float().mean().item()\n",
    "    print(f\"\\nFinal Evaluation Accuracy: {final_acc:.4f}\")\n",
    "    print(\"True classes     :\", all_trues)\n",
    "    print(\"Model predictions:\", all_preds)\n",
    "    return model"
   ]
  },
  {
   "cell_type": "code",
   "execution_count": 23,
   "outputs": [],
   "source": [
    "def evaluate_eegnet(model, val_loader):\n",
    "    device = torch.device(\"cuda\" if torch.cuda.is_available() else \"cpu\")\n",
    "    model.eval()\n",
    "    all_preds = []\n",
    "    all_trues = []\n",
    "    with torch.no_grad():\n",
    "        for X_batch, y_batch in val_loader:\n",
    "            X_batch = X_batch.to(device)\n",
    "            y_batch = y_batch.to(device)\n",
    "            outputs = model(X_batch)\n",
    "            _, preds = torch.max(outputs, 1)\n",
    "            all_preds.append(preds.cpu())\n",
    "            all_trues.append(y_batch.cpu())\n",
    "\n",
    "    all_preds = torch.cat(all_preds, dim=0)\n",
    "    all_trues = torch.cat(all_trues, dim=0)\n",
    "    matches = all_preds == all_trues\n",
    "    final_acc = matches.float().mean().item()\n",
    "    print(f\"\\nFinal Evaluation Accuracy: {final_acc:.4f}\")\n",
    "    print(\"True classes     :\", all_trues)\n",
    "    print(\"Model predictions:\", all_preds)"
   ],
   "metadata": {
    "collapsed": false,
    "ExecuteTime": {
     "end_time": "2025-06-16T20:53:09.482517500Z",
     "start_time": "2025-06-16T20:53:09.459640Z"
    }
   }
  },
  {
   "cell_type": "code",
   "execution_count": 18,
   "metadata": {
    "ExecuteTime": {
     "end_time": "2025-06-16T20:36:09.194010Z",
     "start_time": "2025-06-16T20:36:08.565882Z"
    }
   },
   "outputs": [],
   "source": [
    "def get_dataloaders(X_train, y_train, X_val, y_val, batch_size=16):\n",
    "    le = LabelEncoder()\n",
    "    y_train = le.fit_transform(y_train)\n",
    "    y_val = le.transform(y_val)\n",
    "    num_classes = len(le.classes_)\n",
    "\n",
    "    X_train_tensor = torch.tensor(X_train, dtype=torch.float32)\n",
    "    X_val_tensor = torch.tensor(X_val, dtype=torch.float32)\n",
    "    y_train_tensor = torch.tensor(y_train, dtype=torch.long)\n",
    "    y_val_tensor = torch.tensor(y_val, dtype=torch.long)\n",
    "\n",
    "    train_ds = TensorDataset(X_train_tensor, y_train_tensor)\n",
    "    val_ds = TensorDataset(X_val_tensor, y_val_tensor)\n",
    "    train_loader = DataLoader(train_ds, batch_size=batch_size, shuffle=True)\n",
    "    val_loader = DataLoader(val_ds, batch_size=batch_size, shuffle=False)\n",
    "    return train_loader, val_loader, num_classes"
   ]
  },
  {
   "cell_type": "markdown",
   "source": [
    "#### EEGnet on Intra dataset"
   ],
   "metadata": {
    "collapsed": false
   }
  },
  {
   "cell_type": "code",
   "execution_count": 128,
   "metadata": {
    "ExecuteTime": {
     "end_time": "2025-06-13T14:05:33.203897200Z",
     "start_time": "2025-06-13T14:05:20.497324200Z"
    }
   },
   "outputs": [
    {
     "name": "stdout",
     "output_type": "stream",
     "text": [
      "Epoch 1/10  Train Loss: 1.1807,  Val Loss: 1.0261,  Val Acc: 1.0000\n",
      "Epoch 2/10  Train Loss: 0.3573,  Val Loss: 0.6508,  Val Acc: 1.0000\n",
      "Epoch 3/10  Train Loss: 0.1541,  Val Loss: 0.3913,  Val Acc: 1.0000\n",
      "Epoch 4/10  Train Loss: 0.1138,  Val Loss: 0.2139,  Val Acc: 1.0000\n",
      "Epoch 5/10  Train Loss: 0.0545,  Val Loss: 0.1174,  Val Acc: 1.0000\n",
      "Epoch 6/10  Train Loss: 0.0344,  Val Loss: 0.0659,  Val Acc: 1.0000\n",
      "Epoch 7/10  Train Loss: 0.0389,  Val Loss: 0.0375,  Val Acc: 1.0000\n",
      "Epoch 8/10  Train Loss: 0.0760,  Val Loss: 0.0211,  Val Acc: 1.0000\n",
      "Epoch 9/10  Train Loss: 0.0454,  Val Loss: 0.0143,  Val Acc: 1.0000\n",
      "Epoch 10/10  Train Loss: 0.0459,  Val Loss: 0.0090,  Val Acc: 1.0000\n",
      "tensor([[-1.9678, -2.0905, -2.0646,  5.5730],\n",
      "        [-2.1293, -2.2599, -2.2643,  6.0744],\n",
      "        [-2.2235, -2.4203,  5.0666, -2.7073],\n",
      "        [-2.1474, -2.2760,  4.9109, -2.7016],\n",
      "        [ 4.7060, -2.7062, -1.3229, -2.3605],\n",
      "        [ 4.4315, -2.4917, -1.3149, -2.2395],\n",
      "        [-1.4219,  3.3866, -1.6483, -1.1834],\n",
      "        [-1.3639,  3.2090, -1.5031, -1.1060]])\n",
      "\n",
      "Final Evaluation Accuracy: 1.0000\n",
      "True classes     : tensor([3, 3, 2, 2, 0, 0, 1, 1])\n",
      "Model predictions: tensor([3, 3, 2, 2, 0, 0, 1, 1])\n"
     ]
    }
   ],
   "source": [
    "data_train, _ = concat_together(f'{DIR}Intra/train_ds')\n",
    "means, stds = get_means(data_train), get_stds(data_train)\n",
    "normalize_and_save(f'{DIR}Intra/train_ds', f'{DIR}Intra/train_ds_norm', means, stds, VERBOSE)\n",
    "data_train, labels_train, _, data_val, labels_val, _ = \\\n",
    "    concat_as_samples(f'{DIR}Intra/train_ds_norm')\n",
    "train_loader, val_loader, num_classes = get_dataloaders(data_train, labels_train, data_val, labels_val)\n",
    "train_eegnet(train_loader, val_loader, num_classes, num_epochs=10, lr=1e-3)"
   ]
  },
  {
   "cell_type": "markdown",
   "source": [
    "#### EEGnet on Cross dataset with normal data split"
   ],
   "metadata": {
    "collapsed": false
   }
  },
  {
   "cell_type": "code",
   "execution_count": 95,
   "outputs": [
    {
     "name": "stdout",
     "output_type": "stream",
     "text": [
      "Epoch 1/10  Train Loss: 1.1359,  Val Loss: 1.0911,  Val Acc: 0.6250\n",
      "Epoch 2/10  Train Loss: 0.5417,  Val Loss: 0.7431,  Val Acc: 0.9375\n",
      "Epoch 3/10  Train Loss: 0.1980,  Val Loss: 0.4338,  Val Acc: 1.0000\n",
      "Epoch 4/10  Train Loss: 0.1413,  Val Loss: 0.2228,  Val Acc: 1.0000\n",
      "Epoch 5/10  Train Loss: 0.0802,  Val Loss: 0.1103,  Val Acc: 1.0000\n",
      "Epoch 6/10  Train Loss: 0.0828,  Val Loss: 0.0577,  Val Acc: 1.0000\n",
      "Epoch 7/10  Train Loss: 0.0455,  Val Loss: 0.0338,  Val Acc: 1.0000\n",
      "Epoch 8/10  Train Loss: 0.0357,  Val Loss: 0.0197,  Val Acc: 1.0000\n",
      "Epoch 9/10  Train Loss: 0.0541,  Val Loss: 0.0105,  Val Acc: 1.0000\n",
      "Epoch 10/10  Train Loss: 0.0423,  Val Loss: 0.0070,  Val Acc: 1.0000\n",
      "tensor([[-2.2048, -0.6337, -1.8759,  4.8370],\n",
      "        [-2.4941, -0.6700, -2.0826,  5.3674],\n",
      "        [-2.6726, -0.9389, -2.1628,  5.3306],\n",
      "        [-2.9089, -1.0152, -2.3392,  5.7920],\n",
      "        [-6.3241, -2.4802,  8.9081, -4.7650],\n",
      "        [-3.6436, -1.5556,  5.6763, -3.3497],\n",
      "        [-2.5235, -2.0425,  5.1806, -2.9391],\n",
      "        [-2.8301, -2.0775,  5.5459, -3.0607],\n",
      "        [ 3.9249, -1.7091, -1.1440, -1.9964],\n",
      "        [ 3.9944, -1.7925, -1.0548, -2.0540],\n",
      "        [ 4.0884, -1.7946, -1.1684, -2.1124],\n",
      "        [ 4.2823, -1.7815, -1.4020, -2.1267],\n",
      "        [-1.5411,  4.2804, -1.5372, -1.5073],\n",
      "        [-1.5672,  4.2210, -1.5216, -1.5505],\n",
      "        [-1.8029,  3.8051, -1.6188, -0.9802],\n",
      "        [-1.8700,  3.7273, -1.3846, -1.0719]])\n",
      "\n",
      "Final Validation Accuracy: 1.0000\n",
      "True classes     : tensor([3, 3, 3, 3, 2, 2, 2, 2, 0, 0, 0, 0, 1, 1, 1, 1])\n",
      "Model predictions: tensor([3, 3, 3, 3, 2, 2, 2, 2, 0, 0, 0, 0, 1, 1, 1, 1])\n"
     ]
    }
   ],
   "source": [
    "cr_data_train, _ = concat_together(f'{DIR}Cross/train_ds')\n",
    "cr_means, cr_stds = get_means(cr_data_train), get_stds(cr_data_train)\n",
    "normalize_and_save(f'{DIR}Cross/train_ds', f'{DIR}Cross/train_ds_norm', cr_means, cr_stds, VERBOSE)\n",
    "cr_data_train, cr_labels_train, _, cr_data_val, cr_labels_val, _ = \\\n",
    "    concat_as_samples(f'{DIR}Cross/train_ds_norm')\n",
    "train_loader, val_loader, num_classes = \\\n",
    "    get_dataloaders(cr_data_train, cr_labels_train, cr_data_val, cr_labels_val)\n",
    "train_eegnet(train_loader, val_loader, num_classes, num_epochs=10, lr=1e-3)"
   ],
   "metadata": {
    "collapsed": false,
    "ExecuteTime": {
     "end_time": "2025-06-13T12:26:08.616178800Z",
     "start_time": "2025-06-13T12:25:58.644156700Z"
    }
   }
  },
  {
   "cell_type": "markdown",
   "source": [
    "#### EEGnet on Cross dataset with one subject for training and one subject for validation"
   ],
   "metadata": {
    "collapsed": false
   }
  },
  {
   "cell_type": "code",
   "execution_count": 30,
   "outputs": [],
   "source": [
    "def concat_together_one_subject(input_dir):\n",
    "    \"\"\"\n",
    "    Concatenate data of ONE SUBJECT ONLY from files\n",
    "    into a single time window of sensor readings.\n",
    "    \"\"\"\n",
    "    subject_data = None\n",
    "    subject_id = None\n",
    "    for data, file in data_loader(input_dir):\n",
    "        _, _, person_id = get_file_info(file)\n",
    "        if subject_id is None and subject_data is None:\n",
    "            subject_data = data\n",
    "            subject_id = person_id\n",
    "        elif person_id == subject_id:\n",
    "            subject_data = np.concat((subject_data, data), axis=1)\n",
    "    return subject_data"
   ],
   "metadata": {
    "collapsed": false,
    "ExecuteTime": {
     "end_time": "2025-06-16T20:59:16.131743100Z",
     "start_time": "2025-06-16T20:59:16.131238300Z"
    }
   }
  },
  {
   "cell_type": "code",
   "execution_count": 31,
   "outputs": [],
   "source": [
    "def concat_as_samples_subject_split(input_dir):\n",
    "    \"\"\"\n",
    "    Concatenate data from files, treating each data file as a window sample\n",
    "    of sensor readings. Split data of one subject to train set and data of the other\n",
    "    subject(s) to validation set.\n",
    "    \"\"\"\n",
    "    samples_train = []\n",
    "    tasks_train = []\n",
    "    id_train = None\n",
    "    samples_val = []\n",
    "    tasks_val = []\n",
    "    for data, file in data_loader(input_dir):\n",
    "        task, window, person_id = get_file_info(file)\n",
    "        if id_train is None:\n",
    "            samples_train.append(data)\n",
    "            tasks_train.append(task)\n",
    "            id_train = person_id\n",
    "        elif id_train == person_id:\n",
    "            samples_train.append(data)\n",
    "            tasks_train.append(task)\n",
    "        else:\n",
    "            samples_val.append(data)\n",
    "            tasks_val.append(task)\n",
    "    return np.stack(samples_train), tasks_train, np.stack(samples_val), tasks_val"
   ],
   "metadata": {
    "collapsed": false,
    "ExecuteTime": {
     "end_time": "2025-06-16T20:59:16.794326900Z",
     "start_time": "2025-06-16T20:59:16.780280700Z"
    }
   }
  },
  {
   "cell_type": "code",
   "execution_count": 32,
   "outputs": [
    {
     "name": "stdout",
     "output_type": "stream",
     "text": [
      "32 32\n",
      "['rest', 'rest', 'rest', 'rest', 'rest', 'rest', 'rest', 'rest', 'motor', 'motor', 'motor', 'motor', 'motor', 'motor', 'motor', 'motor', 'math', 'math', 'math', 'math', 'math', 'math', 'math', 'math', 'memory', 'memory', 'memory', 'memory', 'memory', 'memory', 'memory', 'memory']\n",
      "['rest', 'rest', 'rest', 'rest', 'rest', 'rest', 'rest', 'rest', 'motor', 'motor', 'motor', 'motor', 'motor', 'motor', 'motor', 'motor', 'math', 'math', 'math', 'math', 'math', 'math', 'math', 'math', 'memory', 'memory', 'memory', 'memory', 'memory', 'memory', 'memory', 'memory']\n"
     ]
    }
   ],
   "source": [
    "cr_data_train = concat_together_one_subject(f'{DIR}Cross/train_ds')\n",
    "cr_means, cr_stds = get_means(cr_data_train), get_stds(cr_data_train)\n",
    "normalize_and_save(f'{DIR}Cross/train_ds', f'{DIR}Cross/train_ds_norm', cr_means, cr_stds, VERBOSE)\n",
    "cr_data_train, cr_labels_train, cr_data_val, cr_labels_val = \\\n",
    "    concat_as_samples_subject_split(f'{DIR}Cross/train_ds_norm')\n",
    "print(len(cr_data_train), len(cr_data_val))\n",
    "print(cr_labels_train)\n",
    "print(cr_labels_val)"
   ],
   "metadata": {
    "collapsed": false,
    "ExecuteTime": {
     "end_time": "2025-06-16T20:59:32.414149Z",
     "start_time": "2025-06-16T20:59:22.057257200Z"
    }
   }
  },
  {
   "cell_type": "code",
   "execution_count": 69,
   "outputs": [
    {
     "name": "stdout",
     "output_type": "stream",
     "text": [
      "Epoch 1/25  Train Loss: 1.5979,  Val Loss: 1.3952,  Val Acc: 0.4375\n",
      "Epoch 2/25  Train Loss: 1.3564,  Val Loss: 1.3971,  Val Acc: 0.1250\n",
      "Epoch 3/25  Train Loss: 1.1097,  Val Loss: 1.3985,  Val Acc: 0.1250\n",
      "Epoch 4/25  Train Loss: 1.0441,  Val Loss: 1.3982,  Val Acc: 0.1250\n",
      "Epoch 5/25  Train Loss: 0.7801,  Val Loss: 1.3963,  Val Acc: 0.1562\n",
      "Epoch 6/25  Train Loss: 0.7678,  Val Loss: 1.3924,  Val Acc: 0.4062\n",
      "Epoch 7/25  Train Loss: 0.6388,  Val Loss: 1.3870,  Val Acc: 0.5000\n",
      "Epoch 8/25  Train Loss: 0.6009,  Val Loss: 1.3804,  Val Acc: 0.5000\n",
      "Epoch 9/25  Train Loss: 0.6254,  Val Loss: 1.3743,  Val Acc: 0.5000\n",
      "Epoch 10/25  Train Loss: 0.3807,  Val Loss: 1.3692,  Val Acc: 0.5000\n",
      "Epoch 11/25  Train Loss: 0.3080,  Val Loss: 1.3673,  Val Acc: 0.5000\n",
      "Epoch 12/25  Train Loss: 0.3238,  Val Loss: 1.3670,  Val Acc: 0.5000\n",
      "Epoch 13/25  Train Loss: 0.2958,  Val Loss: 1.3691,  Val Acc: 0.5000\n",
      "Epoch 14/25  Train Loss: 0.2941,  Val Loss: 1.3747,  Val Acc: 0.5000\n",
      "Epoch 15/25  Train Loss: 0.2664,  Val Loss: 1.3844,  Val Acc: 0.5000\n",
      "Epoch 16/25  Train Loss: 0.2978,  Val Loss: 1.3974,  Val Acc: 0.5000\n",
      "Epoch 17/25  Train Loss: 0.4470,  Val Loss: 1.4144,  Val Acc: 0.5000\n",
      "Epoch 18/25  Train Loss: 0.2683,  Val Loss: 1.4268,  Val Acc: 0.5000\n",
      "Epoch 19/25  Train Loss: 0.2517,  Val Loss: 1.4371,  Val Acc: 0.5000\n",
      "Epoch 20/25  Train Loss: 0.2315,  Val Loss: 1.4487,  Val Acc: 0.5000\n",
      "Epoch 21/25  Train Loss: 0.2355,  Val Loss: 1.4606,  Val Acc: 0.5000\n",
      "Epoch 22/25  Train Loss: 0.2293,  Val Loss: 1.4697,  Val Acc: 0.5000\n",
      "Epoch 23/25  Train Loss: 0.1730,  Val Loss: 1.4755,  Val Acc: 0.5000\n",
      "Epoch 24/25  Train Loss: 0.2053,  Val Loss: 1.4867,  Val Acc: 0.5000\n",
      "Epoch 25/25  Train Loss: 0.1701,  Val Loss: 1.4925,  Val Acc: 0.5000\n",
      "tensor([[ 0.1475,  0.9020, -0.1600, -1.4014],\n",
      "        [ 0.0667,  0.9794, -0.2978, -1.4297],\n",
      "        [-0.0197,  0.9798, -0.2777, -1.4496],\n",
      "        [ 0.0214,  1.2953, -0.3756, -1.6219],\n",
      "        [ 0.0380,  1.3175, -0.3616, -1.6700],\n",
      "        [ 0.0107,  1.3556, -0.2530, -1.6342],\n",
      "        [-0.0479,  1.4668, -0.2239, -1.6365],\n",
      "        [-0.1761,  1.4615, -0.1374, -1.6532],\n",
      "        [ 0.9520,  0.4378, -0.2789, -1.0979],\n",
      "        [ 1.0352,  0.4213, -0.3715, -0.9818],\n",
      "        [ 0.6820,  0.3310, -0.1887, -1.0520],\n",
      "        [ 1.0655,  0.4171, -0.3575, -0.9506],\n",
      "        [ 0.5019,  0.4087, -0.1328, -1.0554],\n",
      "        [ 0.8220,  0.6284, -0.2006, -0.9315],\n",
      "        [ 1.3614,  0.5781, -0.3870, -0.9300],\n",
      "        [ 1.1153,  0.8106, -0.2995, -0.9153]])\n",
      "tensor([[ 1.6202, -0.2831, -0.4549, -1.0744],\n",
      "        [ 1.6564, -0.2606, -0.4005, -1.1153],\n",
      "        [ 1.4863, -0.1752, -0.2804, -1.1572],\n",
      "        [ 1.2994, -0.2104, -0.0156, -1.2430],\n",
      "        [ 0.8993, -0.3276,  0.1339, -1.2392],\n",
      "        [ 0.9358, -0.4415,  0.2110, -1.1762],\n",
      "        [ 0.9043, -0.5513,  0.2585, -1.1356],\n",
      "        [ 1.1768, -0.4069,  0.0730, -1.1888],\n",
      "        [ 0.0294,  2.0562, -0.1795, -0.8477],\n",
      "        [-0.0800,  1.8609, -0.1699, -0.7092],\n",
      "        [-0.0831,  1.8243, -0.3279, -0.6791],\n",
      "        [-0.2371,  1.8116, -0.2665, -0.7127],\n",
      "        [-0.4201,  1.8591, -0.1420, -0.7332],\n",
      "        [-0.4761,  1.8163, -0.0891, -0.7173],\n",
      "        [-0.6273,  1.8629, -0.0274, -0.6975],\n",
      "        [-0.7087,  1.7943,  0.0603, -0.6260]])\n",
      "\n",
      "Final Evaluation Accuracy: 0.5000\n",
      "True classes     : tensor([3, 3, 3, 3, 3, 3, 3, 3, 2, 2, 2, 2, 2, 2, 2, 2, 0, 0, 0, 0, 0, 0, 0, 0,\n",
      "        1, 1, 1, 1, 1, 1, 1, 1])\n",
      "Model predictions: tensor([1, 1, 1, 1, 1, 1, 1, 1, 0, 0, 0, 0, 0, 0, 0, 0, 0, 0, 0, 0, 0, 0, 0, 0,\n",
      "        1, 1, 1, 1, 1, 1, 1, 1])\n"
     ]
    },
    {
     "data": {
      "text/plain": "EEGConvNet(\n  (conv1): Conv1d(248, 64, kernel_size=(3,), stride=(1,), padding=(1,))\n  (bn1): BatchNorm1d(64, eps=1e-05, momentum=0.1, affine=True, track_running_stats=True)\n  (act1): ReLU()\n  (pool1): MaxPool1d(kernel_size=2, stride=2, padding=0, dilation=1, ceil_mode=False)\n  (conv2): Conv1d(64, 128, kernel_size=(3,), stride=(1,), padding=(1,))\n  (bn2): BatchNorm1d(128, eps=1e-05, momentum=0.1, affine=True, track_running_stats=True)\n  (act2): ReLU()\n  (pool2): MaxPool1d(kernel_size=2, stride=2, padding=0, dilation=1, ceil_mode=False)\n  (conv3): Conv1d(128, 256, kernel_size=(3,), stride=(1,), padding=(1,))\n  (bn3): BatchNorm1d(256, eps=1e-05, momentum=0.1, affine=True, track_running_stats=True)\n  (act3): ReLU()\n  (pool3): AdaptiveAvgPool1d(output_size=1)\n  (dropout): Dropout(p=0.5, inplace=False)\n  (fc): Linear(in_features=256, out_features=4, bias=True)\n)"
     },
     "execution_count": 69,
     "metadata": {},
     "output_type": "execute_result"
    }
   ],
   "source": [
    "train_loader, val_loader, num_classes = \\\n",
    "    get_dataloaders(cr_data_train, cr_labels_train, cr_data_val, cr_labels_val)\n",
    "train_eegnet(train_loader, val_loader, num_classes, num_epochs=25, lr=1e-4)"
   ],
   "metadata": {
    "collapsed": false,
    "ExecuteTime": {
     "end_time": "2025-06-16T21:31:43.196574700Z",
     "start_time": "2025-06-16T21:31:13.418529100Z"
    }
   }
  },
  {
   "cell_type": "markdown",
   "source": [
    "### Evaluation of EEGnet on Intra Test set"
   ],
   "metadata": {
    "collapsed": false
   }
  },
  {
   "cell_type": "code",
   "execution_count": 129,
   "outputs": [],
   "source": [
    "downsample_and_save(f'{DIR}Intra/test', f'{DIR}Intra/test_ds', DOWNSAMPLING_FACTOR, VERBOSE)"
   ],
   "metadata": {
    "collapsed": false,
    "ExecuteTime": {
     "end_time": "2025-06-13T14:06:03.196195700Z",
     "start_time": "2025-06-13T14:05:53.996894900Z"
    }
   }
  },
  {
   "cell_type": "code",
   "execution_count": 19,
   "outputs": [
    {
     "name": "stdout",
     "output_type": "stream",
     "text": [
      "\n",
      "Final Evaluation Accuracy: 1.0000\n",
      "True classes     : tensor([3, 3, 2, 2, 0, 0, 1, 1])\n",
      "Model predictions: tensor([3, 3, 2, 2, 0, 0, 1, 1])\n"
     ]
    }
   ],
   "source": [
    "data_train, _ = concat_together(f'{DIR}Intra/train_ds', train_val_split=100)\n",
    "means, stds = get_means(data_train), get_stds(data_train)\n",
    "normalize_and_save(f'{DIR}Intra/train_ds', f'{DIR}Intra/train_ds_norm', means, stds, VERBOSE)\n",
    "normalize_and_save(f'{DIR}Intra/test_ds', f'{DIR}Intra/test_ds_norm', means, stds, VERBOSE)\n",
    "data_train, labels_train = concat_as_samples(f'{DIR}Intra/train_ds_norm', train_val_split=100)\n",
    "data_test, labels_test = concat_as_samples(f'{DIR}Intra/test_ds_norm', train_val_split=100)\n",
    "\n",
    "train_loader, val_loader, num_classes = get_dataloaders(data_train, labels_train, data_test, labels_test)\n",
    "train_eegnet(train_loader, val_loader, num_classes, num_epochs=10, lr=1e-3, testing=True)"
   ],
   "metadata": {
    "collapsed": false,
    "ExecuteTime": {
     "end_time": "2025-06-16T20:38:41.967855200Z",
     "start_time": "2025-06-16T20:37:45.347146400Z"
    }
   }
  },
  {
   "cell_type": "markdown",
   "source": [
    "### Evaluation of EEGnet on Cross Test set"
   ],
   "metadata": {
    "collapsed": false
   }
  },
  {
   "cell_type": "code",
   "execution_count": 20,
   "outputs": [],
   "source": [
    "downsample_and_save(f'{DIR}Cross/test1', f'{DIR}Cross/test1_ds', DOWNSAMPLING_FACTOR, VERBOSE)\n",
    "downsample_and_save(f'{DIR}Cross/test2', f'{DIR}Cross/test2_ds', DOWNSAMPLING_FACTOR, VERBOSE)\n",
    "downsample_and_save(f'{DIR}Cross/test3', f'{DIR}Cross/test3_ds', DOWNSAMPLING_FACTOR, VERBOSE)"
   ],
   "metadata": {
    "collapsed": false,
    "ExecuteTime": {
     "end_time": "2025-06-16T20:41:49.563211100Z",
     "start_time": "2025-06-16T20:40:54.463998500Z"
    }
   }
  },
  {
   "cell_type": "code",
   "execution_count": 21,
   "outputs": [],
   "source": [
    "data_train, _ = concat_together(f'{DIR}Cross/train_ds', train_val_split=100)\n",
    "means, stds = get_means(data_train), get_stds(data_train)\n",
    "\n",
    "normalize_and_save(f'{DIR}Cross/train_ds', f'{DIR}Cross/train_ds_norm', means, stds, VERBOSE)\n",
    "normalize_and_save(f'{DIR}Cross/test1_ds', f'{DIR}Cross/test1_ds_norm', means, stds, VERBOSE)\n",
    "normalize_and_save(f'{DIR}Cross/test2_ds', f'{DIR}Cross/test2_ds_norm', means, stds, VERBOSE)\n",
    "normalize_and_save(f'{DIR}Cross/test3_ds', f'{DIR}Cross/test3_ds_norm', means, stds, VERBOSE)"
   ],
   "metadata": {
    "collapsed": false,
    "ExecuteTime": {
     "end_time": "2025-06-16T20:45:20.575459700Z",
     "start_time": "2025-06-16T20:44:59.832638600Z"
    }
   }
  },
  {
   "cell_type": "code",
   "execution_count": 66,
   "outputs": [
    {
     "name": "stdout",
     "output_type": "stream",
     "text": [
      "\n",
      "Final Evaluation Accuracy: 0.8750\n",
      "True classes     : tensor([3, 3, 3, 3, 2, 2, 2, 2, 0, 0, 0, 0, 1, 1, 1, 1])\n",
      "Model predictions: tensor([3, 3, 3, 0, 2, 2, 2, 2, 0, 0, 0, 0, 2, 1, 1, 1])\n"
     ]
    }
   ],
   "source": [
    "data_train, labels_train = concat_as_samples(f'{DIR}Cross/train_ds_norm', train_val_split=100)\n",
    "data_test, labels_test = concat_as_samples(f'{DIR}Cross/test1_ds_norm', train_val_split=100)\n",
    "\n",
    "train_loader, val_loader, num_classes = get_dataloaders(data_train, labels_train, data_test, labels_test)\n",
    "eeg_model = train_eegnet(train_loader, val_loader, num_classes, num_epochs=25, lr=1e-4, testing=True)"
   ],
   "metadata": {
    "collapsed": false,
    "ExecuteTime": {
     "end_time": "2025-06-16T21:21:53.418091500Z",
     "start_time": "2025-06-16T21:21:24.744803300Z"
    }
   }
  },
  {
   "cell_type": "code",
   "execution_count": 67,
   "outputs": [
    {
     "name": "stdout",
     "output_type": "stream",
     "text": [
      "\n",
      "Final Evaluation Accuracy: 0.2500\n",
      "True classes     : tensor([3, 3, 3, 3, 2, 2, 2, 2, 0, 0, 0, 0, 1, 1, 1, 1])\n",
      "Model predictions: tensor([3, 3, 3, 3, 0, 0, 0, 0, 2, 2, 2, 2, 0, 0, 0, 0])\n"
     ]
    }
   ],
   "source": [
    "data_test, labels_test = concat_as_samples(f'{DIR}Cross/test2_ds_norm', train_val_split=100)\n",
    "_, val_loader, _ = get_dataloaders(data_train, labels_train, data_test, labels_test)\n",
    "evaluate_eegnet(eeg_model, val_loader)"
   ],
   "metadata": {
    "collapsed": false,
    "ExecuteTime": {
     "end_time": "2025-06-16T21:21:53.800652Z",
     "start_time": "2025-06-16T21:21:53.420110300Z"
    }
   }
  },
  {
   "cell_type": "code",
   "execution_count": 68,
   "outputs": [
    {
     "name": "stdout",
     "output_type": "stream",
     "text": [
      "\n",
      "Final Evaluation Accuracy: 0.8125\n",
      "True classes     : tensor([3, 3, 3, 3, 2, 2, 2, 2, 0, 0, 0, 0, 1, 1, 1, 1])\n",
      "Model predictions: tensor([3, 3, 3, 3, 2, 2, 2, 2, 0, 2, 1, 1, 1, 1, 1, 1])\n"
     ]
    }
   ],
   "source": [
    "data_test, labels_test = concat_as_samples(f'{DIR}Cross/test3_ds_norm', train_val_split=100)\n",
    "_, val_loader, _ = get_dataloaders(data_train, labels_train, data_test, labels_test)\n",
    "evaluate_eegnet(eeg_model, val_loader)"
   ],
   "metadata": {
    "collapsed": false,
    "ExecuteTime": {
     "end_time": "2025-06-16T21:21:54.036944500Z",
     "start_time": "2025-06-16T21:21:53.782660300Z"
    }
   }
  },
  {
   "cell_type": "code",
   "execution_count": null,
   "outputs": [],
   "source": [],
   "metadata": {
    "collapsed": false
   }
  }
 ],
 "metadata": {
  "kernelspec": {
   "display_name": ".venv",
   "language": "python",
   "name": "python3"
  },
  "language_info": {
   "codemirror_mode": {
    "name": "ipython",
    "version": 3
   },
   "file_extension": ".py",
   "mimetype": "text/x-python",
   "name": "python",
   "nbconvert_exporter": "python",
   "pygments_lexer": "ipython3",
   "version": "3.10.11"
  }
 },
 "nbformat": 4,
 "nbformat_minor": 0
}
