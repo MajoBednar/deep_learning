{
 "cells": [
  {
   "cell_type": "code",
   "execution_count": null,
   "metadata": {
    "collapsed": true
   },
   "outputs": [],
   "source": [
    "from scipy.signal import decimate\n",
    "import h5py\n",
    "import numpy as np\n",
    "import os"
   ]
  },
  {
   "cell_type": "code",
   "execution_count": null,
   "metadata": {
    "collapsed": false
   },
   "outputs": [],
   "source": [
    "def log(message: tuple, verbose_true: int, verbose_min):\n",
    "    \"\"\"Helper print function, based on verbose params\"\"\"\n",
    "    if verbose_true >= verbose_min:\n",
    "        for entry in message:\n",
    "            print(entry, end=' ')\n",
    "        print()"
   ]
  },
  {
   "cell_type": "code",
   "execution_count": null,
   "metadata": {},
   "outputs": [],
   "source": [
    "def load_data(filename):\n",
    "    \"\"\"Load data from .h5 file\"\"\"\n",
    "    with h5py.File(filename, 'r') as f:\n",
    "        data = f[next(iter(f.keys()))][()]\n",
    "    return data\n",
    "\n",
    "def downsample(data, factor):\n",
    "    \"\"\"Downsample data based on factor\"\"\"\n",
    "    return decimate(data, factor, axis=1)"
   ]
  },
  {
   "cell_type": "code",
   "execution_count": null,
   "outputs": [],
   "source": [
    "def find_means_and_stds(data) -> tuple[np.ndarray, np.ndarray]:\n",
    "    \"\"\"Get means and stds for every sensor dimension\"\"\"\n",
    "    means = np.mean(data, axis=1, keepdims=True)\n",
    "    stds = np.std(data, axis=1, keepdims=True)\n",
    "    return means, stds\n",
    "\n",
    "def z_score_normalize(data, means, stds):\n",
    "    \"\"\"Z-score normalization for every sensor dimension\"\"\"\n",
    "    return (data - means) / stds"
   ],
   "metadata": {
    "collapsed": false
   }
  },
  {
   "cell_type": "code",
   "execution_count": null,
   "outputs": [],
   "source": [
    "def downsample_and_concat(input_dir, output_dir, factor, verbose):\n",
    "    \"\"\"\n",
    "    Downsample and save the downsampled data for every file in the directory.\n",
    "    Return the concatenation of the downsampled data from the files.\n",
    "    \"\"\"\n",
    "    os.makedirs(output_dir, exist_ok=True)\n",
    "    data_concatenated = None\n",
    "\n",
    "    for file in os.listdir(input_dir):\n",
    "        if not file.endswith('.h5'):\n",
    "            continue\n",
    "        path = os.path.join(input_dir, file)\n",
    "        data = load_data(path)\n",
    "        data = downsample(data, factor)\n",
    "        output_path = os.path.join(output_dir, f\"downsampled_{file}\")\n",
    "        with h5py.File(output_path, 'w') as f:\n",
    "            f.create_dataset(file.rsplit('.', 1)[0], data=data)\n",
    "        log((file, np.shape(data)), verbose, 2)\n",
    "\n",
    "        if data_concatenated is None:\n",
    "            data_concatenated = data\n",
    "        else:\n",
    "            data_concatenated = np.concat((data_concatenated, data), axis=1)\n",
    "        log((file, np.shape(data_concatenated)), verbose, 1)\n",
    "\n",
    "    return data_concatenated"
   ],
   "metadata": {
    "collapsed": false
   }
  },
  {
   "cell_type": "code",
   "execution_count": null,
   "outputs": [],
   "source": [
    "VERBOSE = 0  # constant for debugging, higher number means more printing"
   ],
   "metadata": {
    "collapsed": false
   }
  },
  {
   "cell_type": "code",
   "execution_count": null,
   "metadata": {},
   "outputs": [],
   "source": [
    "data_train = downsample_and_concat('Intra/train', 'Intra/train_ds', 10, VERBOSE)"
   ]
  },
  {
   "cell_type": "code",
   "execution_count": null,
   "outputs": [],
   "source": [
    "means, stds = find_means_and_stds(data_train)\n",
    "data_train = z_score_normalize(data_train, means, stds)"
   ],
   "metadata": {
    "collapsed": false
   }
  }
 ],
 "metadata": {
  "kernelspec": {
   "display_name": "Python 3",
   "language": "python",
   "name": "python3"
  },
  "language_info": {
   "codemirror_mode": {
    "name": "ipython",
    "version": 2
   },
   "file_extension": ".py",
   "mimetype": "text/x-python",
   "name": "python",
   "nbconvert_exporter": "python",
   "pygments_lexer": "ipython2",
   "version": "2.7.6"
  }
 },
 "nbformat": 4,
 "nbformat_minor": 0
}
