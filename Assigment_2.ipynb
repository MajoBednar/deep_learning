{
 "cells": [
  {
   "cell_type": "code",
   "execution_count": 57,
   "metadata": {
    "collapsed": true,
    "ExecuteTime": {
     "end_time": "2025-05-30T22:21:48.061603200Z",
     "start_time": "2025-05-30T22:21:48.030070100Z"
    }
   },
   "outputs": [],
   "source": [
    "from scipy.signal import decimate\n",
    "import h5py\n",
    "import numpy as np\n",
    "import os"
   ]
  },
  {
   "cell_type": "code",
   "execution_count": 58,
   "metadata": {
    "collapsed": false,
    "ExecuteTime": {
     "end_time": "2025-05-30T22:21:48.112402900Z",
     "start_time": "2025-05-30T22:21:48.071693800Z"
    }
   },
   "outputs": [],
   "source": [
    "def log(message: tuple, verbose_true: int, verbose_min):\n",
    "    \"\"\"Helper print function, based on verbose params.\"\"\"\n",
    "    if verbose_true >= verbose_min:\n",
    "        for entry in message:\n",
    "            print(entry, end=' ')\n",
    "        print()"
   ]
  },
  {
   "cell_type": "code",
   "execution_count": 59,
   "metadata": {
    "ExecuteTime": {
     "end_time": "2025-05-30T22:21:48.150219300Z",
     "start_time": "2025-05-30T22:21:48.121061100Z"
    }
   },
   "outputs": [],
   "source": [
    "def load_data(filename):\n",
    "    \"\"\"Load data from .h5 file.\"\"\"\n",
    "    with h5py.File(filename, 'r') as f:\n",
    "        data = f[next(iter(f.keys()))][()]\n",
    "    return data"
   ]
  },
  {
   "cell_type": "code",
   "execution_count": 76,
   "outputs": [],
   "source": [
    "def data_loader(input_dir: str) -> tuple[np.ndarray, str]:\n",
    "    \"\"\"Generator for loading data and its filename from all .h5 files in a directory.\"\"\"\n",
    "    for file in os.listdir(input_dir):\n",
    "        if not file.endswith('.h5'):\n",
    "            continue\n",
    "        path = os.path.join(input_dir, file)\n",
    "        data = load_data(path)\n",
    "        yield data, file"
   ],
   "metadata": {
    "collapsed": false,
    "ExecuteTime": {
     "end_time": "2025-05-30T22:39:42.761109Z",
     "start_time": "2025-05-30T22:39:42.712948400Z"
    }
   }
  },
  {
   "cell_type": "code",
   "execution_count": 61,
   "outputs": [],
   "source": [
    "def create_data_file(data, output_dir, filename: str):\n",
    "    \"\"\"Create .h5 file with given data.\"\"\"\n",
    "    os.makedirs(output_dir, exist_ok=True)\n",
    "    output_path = os.path.join(output_dir, filename)\n",
    "    with h5py.File(output_path, 'w') as f:\n",
    "        f.create_dataset(filename.rsplit('.', 1)[0], data=data)"
   ],
   "metadata": {
    "collapsed": false,
    "ExecuteTime": {
     "end_time": "2025-05-30T22:21:48.226243600Z",
     "start_time": "2025-05-30T22:21:48.193436400Z"
    }
   }
  },
  {
   "cell_type": "markdown",
   "source": [
    "### Preprocessing"
   ],
   "metadata": {
    "collapsed": false
   }
  },
  {
   "cell_type": "code",
   "execution_count": 62,
   "outputs": [],
   "source": [
    "def downsample(data, factor):\n",
    "    \"\"\"Downsample data based on factor.\"\"\"\n",
    "    return decimate(data, factor, axis=1)"
   ],
   "metadata": {
    "collapsed": false,
    "ExecuteTime": {
     "end_time": "2025-05-30T22:21:48.261877800Z",
     "start_time": "2025-05-30T22:21:48.241843800Z"
    }
   }
  },
  {
   "cell_type": "code",
   "execution_count": 63,
   "outputs": [],
   "source": [
    "def find_means_and_stds(data) -> tuple[np.ndarray, np.ndarray]:\n",
    "    \"\"\"Get means and stds for every sensor dimension.\"\"\"\n",
    "    means = np.mean(data, axis=1, keepdims=True)\n",
    "    stds = np.std(data, axis=1, keepdims=True)\n",
    "    return means, stds"
   ],
   "metadata": {
    "collapsed": false,
    "ExecuteTime": {
     "end_time": "2025-05-30T22:21:48.303113700Z",
     "start_time": "2025-05-30T22:21:48.261877800Z"
    }
   }
  },
  {
   "cell_type": "code",
   "execution_count": 64,
   "outputs": [],
   "source": [
    "def z_score_normalize(data, means, stds):\n",
    "    \"\"\"Z-score normalization for every sensor dimension.\"\"\"\n",
    "    return (data - means) / stds"
   ],
   "metadata": {
    "collapsed": false,
    "ExecuteTime": {
     "end_time": "2025-05-30T22:21:48.329654300Z",
     "start_time": "2025-05-30T22:21:48.309120200Z"
    }
   }
  },
  {
   "cell_type": "code",
   "execution_count": 65,
   "outputs": [],
   "source": [
    "def downsample_and_save(input_dir, output_dir, factor, verbose):\n",
    "    \"\"\"Downsample data in each file and save them in a new file.\"\"\"\n",
    "    for data, file in data_loader(input_dir):\n",
    "        data = downsample(data, factor)\n",
    "        create_data_file(data, output_dir, f\"ds_{file}\")"
   ],
   "metadata": {
    "collapsed": false,
    "ExecuteTime": {
     "end_time": "2025-05-30T22:21:48.358759600Z",
     "start_time": "2025-05-30T22:21:48.341713600Z"
    }
   }
  },
  {
   "cell_type": "code",
   "execution_count": 66,
   "outputs": [],
   "source": [
    "def normalize_and_save(input_dir, output_dir, means, stds, verbose):\n",
    "    \"\"\"Normalize data in each file and save them in a new file.\"\"\"\n",
    "    for data, file in data_loader(input_dir):\n",
    "        data = z_score_normalize(data, means, stds)\n",
    "        create_data_file(data, output_dir, f\"norm_{file}\")"
   ],
   "metadata": {
    "collapsed": false,
    "ExecuteTime": {
     "end_time": "2025-05-30T22:21:48.391703700Z",
     "start_time": "2025-05-30T22:21:48.358759600Z"
    }
   }
  },
  {
   "cell_type": "code",
   "execution_count": 67,
   "outputs": [],
   "source": [
    "def concat_together(input_dir):\n",
    "    \"\"\"Concatenate data from files into a single time window of sensor readings.\"\"\"\n",
    "    data_concatenated = None\n",
    "    for data, file in data_loader(input_dir):\n",
    "        if data_concatenated is None:\n",
    "            data_concatenated = data\n",
    "        else:\n",
    "            data_concatenated = np.concat((data_concatenated, data), axis=1)\n",
    "    return data_concatenated"
   ],
   "metadata": {
    "collapsed": false,
    "ExecuteTime": {
     "end_time": "2025-05-30T22:21:48.428349100Z",
     "start_time": "2025-05-30T22:21:48.391703700Z"
    }
   }
  },
  {
   "cell_type": "code",
   "execution_count": 69,
   "outputs": [],
   "source": [
    "VERBOSE = 0  # constant for debugging, higher number means more printing"
   ],
   "metadata": {
    "collapsed": false,
    "ExecuteTime": {
     "end_time": "2025-05-30T22:21:48.486266200Z",
     "start_time": "2025-05-30T22:21:48.467609Z"
    }
   }
  },
  {
   "cell_type": "code",
   "execution_count": 70,
   "metadata": {
    "ExecuteTime": {
     "end_time": "2025-05-30T22:22:05.382277400Z",
     "start_time": "2025-05-30T22:21:48.488951800Z"
    }
   },
   "outputs": [],
   "source": [
    "downsample_and_save('Intra/train', 'Intra/train_ds', 10, VERBOSE)"
   ]
  },
  {
   "cell_type": "code",
   "execution_count": 71,
   "outputs": [],
   "source": [
    "data_train = concat_together('Intra/train_ds')\n",
    "means, stds = find_means_and_stds(data_train)"
   ],
   "metadata": {
    "collapsed": false,
    "ExecuteTime": {
     "end_time": "2025-05-30T22:22:09.782959400Z",
     "start_time": "2025-05-30T22:22:05.395373500Z"
    }
   }
  },
  {
   "cell_type": "code",
   "execution_count": 72,
   "outputs": [],
   "source": [
    "normalize_and_save('Intra/train_ds', 'Intra/train_ds_norm', means, stds, VERBOSE)"
   ],
   "metadata": {
    "collapsed": false,
    "ExecuteTime": {
     "end_time": "2025-05-30T22:22:24.106808200Z",
     "start_time": "2025-05-30T22:22:09.789783900Z"
    }
   }
  },
  {
   "cell_type": "markdown",
   "source": [
    "### Training"
   ],
   "metadata": {
    "collapsed": false
   }
  },
  {
   "cell_type": "code",
   "execution_count": 88,
   "outputs": [],
   "source": [
    "def concat_as_samples(input_dir):\n",
    "    \"\"\"\n",
    "    Concatenate data from files, treating each data file as a window sample of sensor readings.\n",
    "    Also split them to train and validation sets.\n",
    "    \"\"\"\n",
    "    samples_train = []\n",
    "    samples_val = []\n",
    "    for data, file in data_loader(input_dir):\n",
    "        file = int(file.split('.')[0].split('_')[-1])\n",
    "        if file <= 6:\n",
    "            samples_train.append(data)\n",
    "        else:\n",
    "            samples_val.append(data)\n",
    "    return np.stack(samples_train), np.stack(samples_val)"
   ],
   "metadata": {
    "collapsed": false,
    "ExecuteTime": {
     "end_time": "2025-05-30T22:48:17.381950100Z",
     "start_time": "2025-05-30T22:48:17.342898Z"
    }
   }
  },
  {
   "cell_type": "code",
   "execution_count": 89,
   "outputs": [
    {
     "name": "stdout",
     "output_type": "stream",
     "text": [
      "(24, 248, 3563)\n",
      "(8, 248, 3563)\n"
     ]
    }
   ],
   "source": [
    "data_train, data_val = concat_as_samples('Intra/train_ds_norm')\n",
    "print(np.shape(data_train))\n",
    "print(np.shape(data_val))"
   ],
   "metadata": {
    "collapsed": false,
    "ExecuteTime": {
     "end_time": "2025-05-30T22:48:22.215265600Z",
     "start_time": "2025-05-30T22:48:20.641196100Z"
    }
   }
  },
  {
   "cell_type": "code",
   "execution_count": 73,
   "outputs": [],
   "source": [],
   "metadata": {
    "collapsed": false,
    "ExecuteTime": {
     "end_time": "2025-05-30T22:22:27.081592800Z",
     "start_time": "2025-05-30T22:22:26.407219900Z"
    }
   }
  }
 ],
 "metadata": {
  "kernelspec": {
   "display_name": "Python 3",
   "language": "python",
   "name": "python3"
  },
  "language_info": {
   "codemirror_mode": {
    "name": "ipython",
    "version": 2
   },
   "file_extension": ".py",
   "mimetype": "text/x-python",
   "name": "python",
   "nbconvert_exporter": "python",
   "pygments_lexer": "ipython2",
   "version": "2.7.6"
  }
 },
 "nbformat": 4,
 "nbformat_minor": 0
}
