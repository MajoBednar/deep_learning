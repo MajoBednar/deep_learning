{
 "cells": [
  {
   "cell_type": "code",
   "execution_count": null,
   "metadata": {
    "collapsed": true
   },
   "outputs": [],
   "source": [
    "from scipy.signal import decimate\n",
    "import h5py\n",
    "import numpy as np\n",
    "import os"
   ]
  },
  {
   "cell_type": "code",
   "execution_count": null,
   "metadata": {
    "collapsed": false
   },
   "outputs": [],
   "source": [
    "def print_stats(filename_path):\n",
    "    with h5py.File(filename_path, 'r') as f:\n",
    "        dataset_name = next(iter(f.keys()))\n",
    "        print(f\"Loading dataset: {dataset_name!r}\")\n",
    "        data = f[dataset_name][()] \n",
    "       \n",
    "\n",
    "        means=data.mean(axis=1)\n",
    "        stds=data.std(axis=1)\n",
    "        print(f\"data.shape: {data.shape}\")\n",
    "        print(f\"means: min={means.min():.3e}, max={means.max():.3e}\")\n",
    "        print(f\"stds: min={stds.min():.3e}, max={stds.max():.3e}\")"
   ]
  },
  {
   "cell_type": "code",
   "execution_count": null,
   "metadata": {},
   "outputs": [],
   "source": [
    "filename_path = \"fpd/Intra/train/rest_105923_1.h5\"\n",
    "print_stats(filename_path)"
   ]
  },
  {
   "cell_type": "code",
   "execution_count": null,
   "metadata": {},
   "outputs": [],
   "source": [
    "def load_data(filename):\n",
    "    with h5py.File(filename, 'r') as f:\n",
    "        data = f[next(iter(f.keys()))][()]\n",
    "    return data\n",
    "\n",
    "def normalize(data):\n",
    "    mean = data.mean(axis=1, keepdims=True)\n",
    "    std = data.std(axis=1, keepdims=True)\n",
    "    return (data - mean) / std\n",
    "\n",
    "def downsample(data, factor):\n",
    "    return decimate(data, factor, axis=1)\n",
    "\n",
    "def process_and_save(input_dir, output_dir, factor):\n",
    "    os.makedirs(output_dir, exist_ok=True)\n",
    "    for file in os.listdir(input_dir):\n",
    "        if not file.endswith('.h5'):\n",
    "            continue\n",
    "        path = os.path.join(input_dir, file)\n",
    "        data = load_data(path)\n",
    "        data = normalize(data)\n",
    "        data = downsample(data, factor)\n",
    "        with h5py.File(os.path.join(output_dir, file), 'w') as f:\n",
    "            f.create_dataset(file.rsplit('.', 1)[0], data=data)\n",
    "\n",
    "process_and_save(\"fpd/Intra/train\", \"fpd/Processed/train\", 8)\n",
    "process_and_save(\"fpd/Intra/test\", \"fpd/Processed/test\", 8)"
   ]
  },
  {
   "cell_type": "code",
   "execution_count": null,
   "metadata": {},
   "outputs": [],
   "source": [
    "filename_path = r\"fpd\\Processed\\train\\rest_105923_1.h5\"\n",
    "print_stats(filename_path)"
   ]
  }
 ],
 "metadata": {
  "kernelspec": {
   "display_name": "Python 3",
   "language": "python",
   "name": "python3"
  },
  "language_info": {
   "codemirror_mode": {
    "name": "ipython",
    "version": 2
   },
   "file_extension": ".py",
   "mimetype": "text/x-python",
   "name": "python",
   "nbconvert_exporter": "python",
   "pygments_lexer": "ipython2",
   "version": "2.7.6"
  }
 },
 "nbformat": 4,
 "nbformat_minor": 0
}
