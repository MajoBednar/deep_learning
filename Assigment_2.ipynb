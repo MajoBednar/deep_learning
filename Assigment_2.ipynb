{
 "cells": [
  {
   "cell_type": "code",
   "execution_count": 39,
   "metadata": {
    "collapsed": true,
    "ExecuteTime": {
     "end_time": "2025-06-01T11:09:16.622309200Z",
     "start_time": "2025-06-01T11:09:13.027159100Z"
    }
   },
   "outputs": [],
   "source": [
    "import os\n",
    "import h5py\n",
    "import numpy as np\n",
    "from scipy.signal import decimate\n",
    "from sklearn.preprocessing import LabelEncoder\n",
    "from sklearn.utils import shuffle\n",
    "import torch\n",
    "import torch.nn as nn"
   ]
  },
  {
   "cell_type": "code",
   "execution_count": 120,
   "outputs": [],
   "source": [
    "VERBOSE = 0  # constant for debugging, higher number means more printing\n",
    "TRAIN_VAL_SPLIT = 6  # number of train files per task, the rest for validation\n",
    "DOWNSAMPLING_FACTOR = 10"
   ],
   "metadata": {
    "collapsed": false,
    "ExecuteTime": {
     "end_time": "2025-06-01T11:51:41.952850400Z",
     "start_time": "2025-06-01T11:51:41.928204200Z"
    }
   }
  },
  {
   "cell_type": "code",
   "execution_count": 18,
   "outputs": [],
   "source": [
    "def log(message: tuple, verbose_true: int, verbose_min):\n",
    "    \"\"\"Helper print function, based on verbose params.\"\"\"\n",
    "    if verbose_true >= verbose_min:\n",
    "        for entry in message:\n",
    "            print(entry, end=' ')\n",
    "        print()"
   ],
   "metadata": {
    "collapsed": false,
    "ExecuteTime": {
     "end_time": "2025-06-01T10:40:37.903166500Z",
     "start_time": "2025-06-01T10:40:35.613368800Z"
    }
   }
  },
  {
   "cell_type": "code",
   "execution_count": 19,
   "outputs": [],
   "source": [
    "def load_data(filename):\n",
    "    \"\"\"Load data from .h5 file.\"\"\"\n",
    "    with h5py.File(filename, 'r') as f:\n",
    "        data = f[next(iter(f.keys()))][()]\n",
    "    return data"
   ],
   "metadata": {
    "collapsed": false,
    "ExecuteTime": {
     "end_time": "2025-06-01T10:40:39.609333100Z",
     "start_time": "2025-06-01T10:40:37.102388700Z"
    }
   }
  },
  {
   "cell_type": "code",
   "execution_count": 20,
   "outputs": [],
   "source": [
    "def data_loader(input_dir: str) -> tuple[np.ndarray, str]:\n",
    "    \"\"\"Generator for loading data and its filename from all .h5 files in a directory.\"\"\"\n",
    "    for file in os.listdir(input_dir):\n",
    "        if not file.endswith('.h5'):\n",
    "            continue\n",
    "        path = os.path.join(input_dir, file)\n",
    "        data = load_data(path)\n",
    "        yield data, file"
   ],
   "metadata": {
    "collapsed": false,
    "ExecuteTime": {
     "end_time": "2025-06-01T10:40:41.581930800Z",
     "start_time": "2025-06-01T10:40:37.103387200Z"
    }
   }
  },
  {
   "cell_type": "code",
   "execution_count": 21,
   "outputs": [],
   "source": [
    "def create_data_file(data, output_dir, filename: str):\n",
    "    \"\"\"Create .h5 file with given data.\"\"\"\n",
    "    os.makedirs(output_dir, exist_ok=True)\n",
    "    output_path = os.path.join(output_dir, filename)\n",
    "    with h5py.File(output_path, 'w') as f:\n",
    "        f.create_dataset(filename.rsplit('.', 1)[0], data=data)"
   ],
   "metadata": {
    "collapsed": false,
    "ExecuteTime": {
     "end_time": "2025-06-01T10:40:43.373941600Z",
     "start_time": "2025-06-01T10:40:37.904166500Z"
    }
   }
  },
  {
   "cell_type": "code",
   "execution_count": 22,
   "outputs": [],
   "source": [
    "def get_file_info(filename: str) -> tuple[str, int]:\n",
    "    filename = filename.rsplit('.', 1)[0].split('_')\n",
    "    task, _, window = filename[-3], filename[-2], filename[-1]\n",
    "    return task, int(window)"
   ],
   "metadata": {
    "collapsed": false,
    "ExecuteTime": {
     "end_time": "2025-06-01T10:40:45.284658600Z",
     "start_time": "2025-06-01T10:40:39.609333100Z"
    }
   }
  },
  {
   "cell_type": "markdown",
   "source": [
    "### Preprocessing"
   ],
   "metadata": {
    "collapsed": false
   }
  },
  {
   "cell_type": "code",
   "execution_count": 23,
   "outputs": [],
   "source": [
    "def downsample(data, factor):\n",
    "    \"\"\"Downsample data based on factor.\"\"\"\n",
    "    return decimate(data, factor, axis=1)"
   ],
   "metadata": {
    "collapsed": false,
    "ExecuteTime": {
     "end_time": "2025-06-01T10:40:47.103187800Z",
     "start_time": "2025-06-01T10:40:39.610332900Z"
    }
   }
  },
  {
   "cell_type": "code",
   "execution_count": 24,
   "outputs": [],
   "source": [
    "def get_means(data) -> np.ndarray:\n",
    "    \"\"\"Get means for every sensor dimension.\"\"\"\n",
    "    return np.mean(data, axis=1, keepdims=True)"
   ],
   "metadata": {
    "collapsed": false,
    "ExecuteTime": {
     "end_time": "2025-06-01T10:40:48.569402Z",
     "start_time": "2025-06-01T10:40:39.610332900Z"
    }
   }
  },
  {
   "cell_type": "code",
   "execution_count": 25,
   "outputs": [],
   "source": [
    "def get_stds(data) -> np.ndarray:\n",
    "    \"\"\"Get standard deviations for every sensor dimension.\"\"\"\n",
    "    return np.std(data, axis=1, keepdims=True)"
   ],
   "metadata": {
    "collapsed": false,
    "ExecuteTime": {
     "end_time": "2025-06-01T10:40:50.146377800Z",
     "start_time": "2025-06-01T10:40:41.581930800Z"
    }
   }
  },
  {
   "cell_type": "code",
   "execution_count": 26,
   "outputs": [],
   "source": [
    "def z_score_normalize(data, means, stds):\n",
    "    \"\"\"Z-score normalization for every sensor dimension.\"\"\"\n",
    "    return (data - means) / stds"
   ],
   "metadata": {
    "collapsed": false,
    "ExecuteTime": {
     "end_time": "2025-06-01T10:40:52.252422Z",
     "start_time": "2025-06-01T10:40:43.373941600Z"
    }
   }
  },
  {
   "cell_type": "code",
   "execution_count": 27,
   "outputs": [],
   "source": [
    "def downsample_and_save(input_dir, output_dir, factor, verbose):\n",
    "    \"\"\"Downsample data in each file and save them in a new file.\"\"\"\n",
    "    for data, file in data_loader(input_dir):\n",
    "        data = downsample(data, factor)\n",
    "        create_data_file(data, output_dir, f\"ds_{file}\")"
   ],
   "metadata": {
    "collapsed": false,
    "ExecuteTime": {
     "end_time": "2025-06-01T10:40:54.344332Z",
     "start_time": "2025-06-01T10:40:45.284658600Z"
    }
   }
  },
  {
   "cell_type": "code",
   "execution_count": 28,
   "outputs": [],
   "source": [
    "def normalize_and_save(input_dir, output_dir, means, stds, verbose):\n",
    "    \"\"\"Normalize data in each file and save them in a new file.\"\"\"\n",
    "    for data, file in data_loader(input_dir):\n",
    "        data = z_score_normalize(data, means, stds)\n",
    "        create_data_file(data, output_dir, f\"norm_{file}\")"
   ],
   "metadata": {
    "collapsed": false,
    "ExecuteTime": {
     "end_time": "2025-06-01T10:40:57.231797700Z",
     "start_time": "2025-06-01T10:40:47.103187800Z"
    }
   }
  },
  {
   "cell_type": "code",
   "execution_count": 29,
   "outputs": [],
   "source": [
    "def concat_together(input_dir):\n",
    "    \"\"\"\n",
    "    Concatenate data from files into a single time window of sensor readings.\n",
    "    Also split to a train and validation sets.\n",
    "    \"\"\"\n",
    "    train_data = None\n",
    "    val_data = None\n",
    "    for data, file in data_loader(input_dir):\n",
    "        _, window = get_file_info(file)\n",
    "        if window <= TRAIN_VAL_SPLIT and train_data is None:\n",
    "            train_data = data\n",
    "        elif window <= TRAIN_VAL_SPLIT:\n",
    "            train_data = np.concat((train_data, data), axis=1)\n",
    "        elif val_data is None:\n",
    "            val_data = data\n",
    "        else:\n",
    "            val_data = np.concat((train_data, data), axis=1)\n",
    "    return train_data, val_data"
   ],
   "metadata": {
    "collapsed": false,
    "ExecuteTime": {
     "end_time": "2025-06-01T10:41:02.449701900Z",
     "start_time": "2025-06-01T10:40:47.104188900Z"
    }
   }
  },
  {
   "cell_type": "code",
   "execution_count": 30,
   "metadata": {
    "ExecuteTime": {
     "end_time": "2025-06-01T10:42:14.590931800Z",
     "start_time": "2025-06-01T10:40:48.569402Z"
    }
   },
   "outputs": [],
   "source": [
    "downsample_and_save('Intra/train', 'Intra/train_ds', DOWNSAMPLING_FACTOR, VERBOSE)"
   ]
  },
  {
   "cell_type": "code",
   "execution_count": 31,
   "outputs": [],
   "source": [
    "data_train, _ = concat_together('Intra/train_ds')\n",
    "means, stds = get_means(data_train), get_stds(data_train)"
   ],
   "metadata": {
    "collapsed": false,
    "ExecuteTime": {
     "end_time": "2025-06-01T10:42:19.035711300Z",
     "start_time": "2025-06-01T10:42:14.590931800Z"
    }
   }
  },
  {
   "cell_type": "code",
   "execution_count": 32,
   "outputs": [],
   "source": [
    "normalize_and_save('Intra/train_ds', 'Intra/train_ds_norm', means, stds, VERBOSE)"
   ],
   "metadata": {
    "collapsed": false,
    "ExecuteTime": {
     "end_time": "2025-06-01T10:42:29.003698700Z",
     "start_time": "2025-06-01T10:42:19.035711300Z"
    }
   }
  },
  {
   "cell_type": "markdown",
   "source": [
    "### Training"
   ],
   "metadata": {
    "collapsed": false
   }
  },
  {
   "cell_type": "code",
   "execution_count": 121,
   "outputs": [],
   "source": [
    "def concat_as_samples(input_dir):\n",
    "    \"\"\"\n",
    "    Concatenate data from files, treating each data file as a window sample\n",
    "    of sensor readings. Also split them to train and validation sets.\n",
    "    \"\"\"\n",
    "    samples_train = []\n",
    "    tasks_train = []\n",
    "    samples_val = []\n",
    "    tasks_val = []\n",
    "    for data, file in data_loader(input_dir):\n",
    "        task, window = get_file_info(file)\n",
    "        if window <= TRAIN_VAL_SPLIT:\n",
    "            samples_train.append(data)\n",
    "            tasks_train.append(task)\n",
    "        else:\n",
    "            samples_val.append(data)\n",
    "            tasks_val.append(task)\n",
    "    return np.stack(samples_train), tasks_train, np.stack(samples_val), tasks_val"
   ],
   "metadata": {
    "collapsed": false,
    "ExecuteTime": {
     "end_time": "2025-06-01T11:51:48.103169900Z",
     "start_time": "2025-06-01T11:51:48.090327100Z"
    }
   }
  },
  {
   "cell_type": "code",
   "execution_count": 122,
   "outputs": [
    {
     "name": "stdout",
     "output_type": "stream",
     "text": [
      "(24, 248, 3563)\n",
      "(8, 248, 3563)\n",
      "['rest', 'rest', 'rest', 'rest', 'rest', 'rest', 'motor', 'motor', 'motor', 'motor', 'motor', 'motor', 'math', 'math', 'math', 'math', 'math', 'math', 'memory', 'memory', 'memory', 'memory', 'memory', 'memory']\n"
     ]
    }
   ],
   "source": [
    "data_train, labels_train, data_val, labels_val = concat_as_samples('Intra/train_ds_norm')\n",
    "print(np.shape(data_train))\n",
    "print(np.shape(data_val))\n",
    "print(labels_train)"
   ],
   "metadata": {
    "collapsed": false,
    "ExecuteTime": {
     "end_time": "2025-06-01T11:51:48.805139400Z",
     "start_time": "2025-06-01T11:51:48.580264400Z"
    }
   }
  },
  {
   "cell_type": "markdown",
   "source": [
    "#### Multiclass Logistic Regression"
   ],
   "metadata": {
    "collapsed": false
   }
  },
  {
   "cell_type": "code",
   "execution_count": 123,
   "outputs": [
    {
     "name": "stdout",
     "output_type": "stream",
     "text": [
      "(24, 883624)\n",
      "[3 3 3 3 3 3 2 2 2 2 2 2 0 0 0 0 0 0 1 1 1 1 1 1]\n",
      "[3 3 2 2 0 0 1 1]\n"
     ]
    }
   ],
   "source": [
    "# Flatten the data: (24, 248, 3563) → (24, 248*3563)\n",
    "X_train = data_train.reshape(len(data_train), -1)\n",
    "X_val = data_val.reshape(len(data_val), -1)\n",
    "print(np.shape(X_train))\n",
    "\n",
    "# Encode string labels to integers\n",
    "le = LabelEncoder()\n",
    "y_train = le.fit_transform(labels_train)\n",
    "y_val = le.transform(labels_val)\n",
    "print(y_train)\n",
    "print(y_val)\n",
    "\n",
    "# Convert to torch tensors\n",
    "X_train_tensor = torch.tensor(X_train, dtype=torch.float32)\n",
    "y_train_tensor = torch.tensor(y_train, dtype=torch.long)\n",
    "\n",
    "X_val_tensor = torch.tensor(X_val, dtype=torch.float32)\n",
    "y_val_tensor = torch.tensor(y_val, dtype=torch.long)"
   ],
   "metadata": {
    "collapsed": false,
    "ExecuteTime": {
     "end_time": "2025-06-01T11:51:49.692716600Z",
     "start_time": "2025-06-01T11:51:49.617254600Z"
    }
   }
  },
  {
   "cell_type": "code",
   "execution_count": 124,
   "outputs": [],
   "source": [
    "class MulticlassLogisticRegression(nn.Module):\n",
    "    def __init__(self, input_dim, num_classes):\n",
    "        super(MulticlassLogisticRegression, self).__init__()\n",
    "        self.linear = nn.Linear(input_dim, num_classes)\n",
    "\n",
    "    def forward(self, x):\n",
    "        return self.linear(x)  # No softmax here; CrossEntropyLoss does it"
   ],
   "metadata": {
    "collapsed": false,
    "ExecuteTime": {
     "end_time": "2025-06-01T11:51:50.090725300Z",
     "start_time": "2025-06-01T11:51:50.079534400Z"
    }
   }
  },
  {
   "cell_type": "code",
   "execution_count": 125,
   "outputs": [],
   "source": [
    "input_dim = X_train.shape[1]\n",
    "num_classes = len(set(y_train))\n",
    "model = MulticlassLogisticRegression(input_dim, num_classes)"
   ],
   "metadata": {
    "collapsed": false,
    "ExecuteTime": {
     "end_time": "2025-06-01T11:51:50.511812700Z",
     "start_time": "2025-06-01T11:51:50.476202900Z"
    }
   }
  },
  {
   "cell_type": "code",
   "execution_count": 126,
   "outputs": [],
   "source": [
    "criterion = nn.CrossEntropyLoss()\n",
    "optimizer = torch.optim.Adam(model.parameters(), lr=0.01)"
   ],
   "metadata": {
    "collapsed": false,
    "ExecuteTime": {
     "end_time": "2025-06-01T11:51:50.872252Z",
     "start_time": "2025-06-01T11:51:50.857726700Z"
    }
   }
  },
  {
   "cell_type": "code",
   "execution_count": 127,
   "outputs": [
    {
     "name": "stdout",
     "output_type": "stream",
     "text": [
      "Epoch 1/3, Loss: 1.4765\n",
      "Epoch 2/3, Loss: 0.0000\n",
      "Epoch 3/3, Loss: 0.0000\n"
     ]
    }
   ],
   "source": [
    "num_epochs = 3\n",
    "\n",
    "for epoch in range(num_epochs):\n",
    "    model.train()\n",
    "    outputs = model(X_train_tensor)\n",
    "    loss = criterion(outputs, y_train_tensor)\n",
    "\n",
    "    optimizer.zero_grad()\n",
    "    loss.backward()\n",
    "    optimizer.step()\n",
    "\n",
    "    if (epoch + 1) % 1 == 0:\n",
    "        print(f'Epoch {epoch+1}/{num_epochs}, Loss: {loss.item():.4f}')"
   ],
   "metadata": {
    "collapsed": false,
    "ExecuteTime": {
     "end_time": "2025-06-01T11:51:51.396916100Z",
     "start_time": "2025-06-01T11:51:51.254121Z"
    }
   }
  },
  {
   "cell_type": "code",
   "execution_count": 128,
   "outputs": [
    {
     "name": "stdout",
     "output_type": "stream",
     "text": [
      "tensor([[-31201.5625, -26178.2539, -36457.7617,  39712.9375],\n",
      "        [-34414.7695, -28139.9688, -41458.0273,  43984.7148],\n",
      "        [  2813.7087,   2474.6396,  15035.4111, -10688.0693],\n",
      "        [  2989.0618,   3457.8999,  15352.7422, -11183.6865],\n",
      "        [ 12427.3057,   3997.9697,   5034.6606,  -8931.1924],\n",
      "        [ 12474.6064,   4788.8110,   4968.1978,  -9153.0957],\n",
      "        [  2940.0708,   9670.8418,  -1186.7765,  -3924.7671],\n",
      "        [  2563.5288,   8693.1846,  -1286.2754,  -3396.7075]])\n",
      "True classes     : tensor([3, 3, 2, 2, 0, 0, 1, 1])\n",
      "Model predictions: tensor([3, 3, 2, 2, 0, 0, 1, 1])\n",
      "Validation Accuracy: 1.0000\n"
     ]
    }
   ],
   "source": [
    "model.eval()\n",
    "with torch.no_grad():\n",
    "    val_outputs = model(X_val_tensor)\n",
    "    print(val_outputs)\n",
    "    _, val_predictions = torch.max(val_outputs, 1)\n",
    "    print('True classes     :', y_val_tensor)\n",
    "    print('Model predictions:', val_predictions)\n",
    "    accuracy = (val_predictions == y_val_tensor).float().mean()\n",
    "    print(f'Validation Accuracy: {accuracy.item():.4f}')"
   ],
   "metadata": {
    "collapsed": false,
    "ExecuteTime": {
     "end_time": "2025-06-01T11:51:52.211354600Z",
     "start_time": "2025-06-01T11:51:52.194701800Z"
    }
   }
  },
  {
   "cell_type": "markdown",
   "source": [
    "#### Logistic Regression with data dimensionality reduction"
   ],
   "metadata": {
    "collapsed": false
   }
  },
  {
   "cell_type": "code",
   "execution_count": 135,
   "outputs": [
    {
     "name": "stdout",
     "output_type": "stream",
     "text": [
      "(24, 883624)\n"
     ]
    }
   ],
   "source": [
    "# Reshape: (samples, 248, 3563) → (samples, 248 * 3563)\n",
    "X_train_flat = data_train.reshape(data_train.shape[0], -1)\n",
    "X_val_flat = data_val.reshape(data_val.shape[0], -1)\n",
    "print(np.shape(X_train_flat))"
   ],
   "metadata": {
    "collapsed": false,
    "ExecuteTime": {
     "end_time": "2025-06-01T12:00:30.170245700Z",
     "start_time": "2025-06-01T12:00:30.146638900Z"
    }
   }
  },
  {
   "cell_type": "code",
   "execution_count": 136,
   "outputs": [],
   "source": [
    "from sklearn.decomposition import PCA\n",
    "\n",
    "# Reduce to 100 components (tune as needed)\n",
    "pca = PCA(n_components=10)\n",
    "X_train_pca = pca.fit_transform(X_train_flat)\n",
    "X_val_pca = pca.transform(X_val_flat)\n",
    "\n",
    "# Convert to PyTorch tensors for training\n",
    "X_train_tensor = torch.tensor(X_train_pca, dtype=torch.float32)\n",
    "X_val_tensor = torch.tensor(X_val_pca, dtype=torch.float32)"
   ],
   "metadata": {
    "collapsed": false,
    "ExecuteTime": {
     "end_time": "2025-06-01T12:00:34.611124400Z",
     "start_time": "2025-06-01T12:00:30.892583100Z"
    }
   }
  },
  {
   "cell_type": "code",
   "execution_count": 138,
   "outputs": [
    {
     "name": "stdout",
     "output_type": "stream",
     "text": [
      "Epoch 10/30, Loss: 91.0871\n",
      "Epoch 20/30, Loss: 5.4303\n",
      "Epoch 30/30, Loss: 0.0000\n",
      "tensor([[ -73.7545, -149.6743,  169.9396,  514.3483],\n",
      "        [ -68.8179, -160.6011,  188.9501,  569.1395],\n",
      "        [-212.0851, -266.9196,    9.7095, -249.0159],\n",
      "        [-206.0082, -272.0746,   -1.3830, -297.3456],\n",
      "        [ 231.7663,   56.9210,   64.5163,   12.2731],\n",
      "        [ 232.0108,   89.4946,   51.9372,   24.6367],\n",
      "        [ -55.7072,  114.8162, -156.6940, -147.1962],\n",
      "        [ -54.5737,  120.1084, -174.0690, -126.5344]])\n",
      "True classes     : tensor([3, 3, 2, 2, 0, 0, 1, 1])\n",
      "Model predictions: tensor([3, 3, 2, 2, 0, 0, 1, 1])\n",
      "Validation Accuracy: 1.0000\n"
     ]
    }
   ],
   "source": [
    "input_dim = X_train_pca.shape[1]\n",
    "num_classes = len(set(y_train))\n",
    "model = MulticlassLogisticRegression(input_dim, num_classes)\n",
    "criterion = nn.CrossEntropyLoss()\n",
    "optimizer = torch.optim.Adam(model.parameters(), lr=0.01)\n",
    "num_epochs = 30\n",
    "\n",
    "for epoch in range(num_epochs):\n",
    "    model.train()\n",
    "    outputs = model(X_train_tensor)\n",
    "    loss = criterion(outputs, y_train_tensor)\n",
    "\n",
    "    optimizer.zero_grad()\n",
    "    loss.backward()\n",
    "    optimizer.step()\n",
    "\n",
    "    if (epoch + 1) % 10 == 0:\n",
    "        print(f'Epoch {epoch + 1}/{num_epochs}, Loss: {loss.item():.4f}')\n",
    "\n",
    "model.eval()\n",
    "with torch.no_grad():\n",
    "    val_outputs = model(X_val_tensor)\n",
    "    print(val_outputs)\n",
    "    _, val_predictions = torch.max(val_outputs, 1)\n",
    "    print('True classes     :', y_val_tensor)\n",
    "    print('Model predictions:', val_predictions)\n",
    "    accuracy = (val_predictions == y_val_tensor).float().mean()\n",
    "    print(f'Validation Accuracy: {accuracy.item():.4f}')"
   ],
   "metadata": {
    "collapsed": false,
    "ExecuteTime": {
     "end_time": "2025-06-01T12:01:06.306297700Z",
     "start_time": "2025-06-01T12:01:06.242409300Z"
    }
   }
  },
  {
   "cell_type": "markdown",
   "source": [
    "### t-SNE data visualization"
   ],
   "metadata": {
    "collapsed": false
   }
  },
  {
   "cell_type": "code",
   "execution_count": 141,
   "outputs": [
    {
     "data": {
      "text/plain": "<Figure size 800x600 with 1 Axes>",
      "image/png": "[encoded data removed]"
     },
     "metadata": {},
     "output_type": "display_data"
    }
   ],
   "source": [
    "from sklearn.manifold import TSNE\n",
    "import matplotlib.pyplot as plt\n",
    "\n",
    "# Combine train and val for visualization\n",
    "X_combined = np.vstack([X_train_flat, X_val_flat])\n",
    "labels_combined = labels_train + labels_val\n",
    "\n",
    "# Optional: PCA first for speed\n",
    "X_combined_pca = PCA(n_components=10).fit_transform(X_combined)\n",
    "\n",
    "# t-SNE\n",
    "tsne = TSNE(n_components=2, perplexity=5, random_state=42)\n",
    "X_tsne = tsne.fit_transform(X_combined_pca)\n",
    "\n",
    "# Plot\n",
    "plt.figure(figsize=(8, 6))\n",
    "for label in set(labels_combined):\n",
    "    idx = [i for i, l in enumerate(labels_combined) if l == label]\n",
    "    plt.scatter(X_tsne[idx, 0], X_tsne[idx, 1], label=label, alpha=0.7)\n",
    "plt.legend()\n",
    "plt.title(\"t-SNE visualization of EEG samples\")\n",
    "plt.xlabel(\"Component 1\")\n",
    "plt.ylabel(\"Component 2\")\n",
    "plt.grid(True)\n",
    "plt.tight_layout()\n",
    "plt.show()"
   ],
   "metadata": {
    "collapsed": false,
    "ExecuteTime": {
     "end_time": "2025-06-01T12:11:27.673588700Z",
     "start_time": "2025-06-01T12:11:23.645194600Z"
    }
   }
  },
  {
   "cell_type": "code",
   "execution_count": null,
   "outputs": [],
   "source": [],
   "metadata": {
    "collapsed": false
   }
  }
 ],
 "metadata": {
  "kernelspec": {
   "display_name": "Python 3",
   "language": "python",
   "name": "python3"
  },
  "language_info": {
   "codemirror_mode": {
    "name": "ipython",
    "version": 2
   },
   "file_extension": ".py",
   "mimetype": "text/x-python",
   "name": "python",
   "nbconvert_exporter": "python",
   "pygments_lexer": "ipython2",
   "version": "2.7.6"
  }
 },
 "nbformat": 4,
 "nbformat_minor": 0
}
