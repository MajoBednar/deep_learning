{
 "cells": [
  {
   "cell_type": "code",
   "execution_count": 11,
   "metadata": {
    "collapsed": true,
    "ExecuteTime": {
     "end_time": "2025-05-28T09:45:19.742274800Z",
     "start_time": "2025-05-28T09:45:19.662843900Z"
    }
   },
   "outputs": [],
   "source": [
    "from scipy.signal import decimate\n",
    "import h5py\n",
    "import numpy as np\n",
    "import os"
   ]
  },
  {
   "cell_type": "code",
   "execution_count": 12,
   "metadata": {
    "collapsed": false,
    "ExecuteTime": {
     "end_time": "2025-05-28T09:45:19.796528700Z",
     "start_time": "2025-05-28T09:45:19.721470900Z"
    }
   },
   "outputs": [],
   "source": [
    "def log(message: tuple, verbose_true: int, verbose_min):\n",
    "    \"\"\"Helper print function, based on verbose params\"\"\"\n",
    "    if verbose_true >= verbose_min:\n",
    "        for entry in message:\n",
    "            print(entry, end=' ')\n",
    "        print()"
   ]
  },
  {
   "cell_type": "code",
   "execution_count": 13,
   "metadata": {
    "ExecuteTime": {
     "end_time": "2025-05-28T09:45:19.847706900Z",
     "start_time": "2025-05-28T09:45:19.798259200Z"
    }
   },
   "outputs": [],
   "source": [
    "def load_data(filename):\n",
    "    \"\"\"Load data from .h5 file\"\"\"\n",
    "    with h5py.File(filename, 'r') as f:\n",
    "        data = f[next(iter(f.keys()))][()]\n",
    "    return data\n",
    "\n",
    "def downsample(data, factor):\n",
    "    \"\"\"Downsample data based on factor\"\"\"\n",
    "    return decimate(data, factor, axis=1)"
   ]
  },
  {
   "cell_type": "code",
   "execution_count": 14,
   "outputs": [],
   "source": [
    "def find_means_and_stds(data) -> tuple[np.ndarray, np.ndarray]:\n",
    "    \"\"\"Get means and stds for every sensor dimension\"\"\"\n",
    "    means = np.mean(data, axis=1, keepdims=True)\n",
    "    stds = np.std(data, axis=1, keepdims=True)\n",
    "    return means, stds\n",
    "\n",
    "def z_score_normalize(data, means, stds):\n",
    "    \"\"\"Z-score normalization for every sensor dimension\"\"\"\n",
    "    return (data - means) / stds"
   ],
   "metadata": {
    "collapsed": false,
    "ExecuteTime": {
     "end_time": "2025-05-28T09:45:19.906000800Z",
     "start_time": "2025-05-28T09:45:19.847706900Z"
    }
   }
  },
  {
   "cell_type": "code",
   "execution_count": 15,
   "outputs": [],
   "source": [
    "def downsample_and_concat(input_dir, output_dir, factor, verbose):\n",
    "    \"\"\"\n",
    "    Downsample and save the downsampled data for every file in the directory.\n",
    "    Return the concatenation of the downsampled data from the files.\n",
    "    \"\"\"\n",
    "    os.makedirs(output_dir, exist_ok=True)\n",
    "    data_concatenated = None\n",
    "\n",
    "    for file in os.listdir(input_dir):\n",
    "        if not file.endswith('.h5'):\n",
    "            continue\n",
    "        path = os.path.join(input_dir, file)\n",
    "        data = load_data(path)\n",
    "        data = downsample(data, factor)\n",
    "        log((file, np.shape(data)), verbose, 2)\n",
    "\n",
    "        output_path = os.path.join(output_dir, f\"ds_{file}\")\n",
    "        with h5py.File(output_path, 'w') as f:\n",
    "            f.create_dataset(file.rsplit('.', 1)[0], data=data)\n",
    "\n",
    "        if data_concatenated is None:\n",
    "            data_concatenated = data\n",
    "        else:\n",
    "            data_concatenated = np.concat((data_concatenated, data), axis=1)\n",
    "        log((file, np.shape(data_concatenated)), verbose, 1)\n",
    "\n",
    "    return data_concatenated"
   ],
   "metadata": {
    "collapsed": false,
    "ExecuteTime": {
     "end_time": "2025-05-28T09:45:19.964534700Z",
     "start_time": "2025-05-28T09:45:19.909494500Z"
    }
   }
  },
  {
   "cell_type": "code",
   "execution_count": 22,
   "outputs": [],
   "source": [
    "def normalize_and_save(input_dir, output_dir, means, stds, verbose):\n",
    "    \"\"\"Normalize data in each file and save them in a new file\"\"\"\n",
    "    os.makedirs(output_dir, exist_ok=True)\n",
    "\n",
    "    for file in os.listdir(input_dir):\n",
    "        if not file.endswith('.h5'):\n",
    "            continue\n",
    "        path = os.path.join(input_dir, file)\n",
    "        data = load_data(path)\n",
    "        data = z_score_normalize(data, means, stds)\n",
    "\n",
    "        output_path = os.path.join(output_dir, f\"norm_{file}\")\n",
    "        with h5py.File(output_path, 'w') as f:\n",
    "            f.create_dataset(file.rsplit('.', 1)[0], data=data)"
   ],
   "metadata": {
    "collapsed": false,
    "ExecuteTime": {
     "end_time": "2025-05-28T09:53:44.185158500Z",
     "start_time": "2025-05-28T09:53:44.094347Z"
    }
   }
  },
  {
   "cell_type": "code",
   "execution_count": 17,
   "outputs": [],
   "source": [
    "VERBOSE = 0  # constant for debugging, higher number means more printing"
   ],
   "metadata": {
    "collapsed": false,
    "ExecuteTime": {
     "end_time": "2025-05-28T09:45:20.075577700Z",
     "start_time": "2025-05-28T09:45:20.039603900Z"
    }
   }
  },
  {
   "cell_type": "code",
   "execution_count": 18,
   "metadata": {
    "ExecuteTime": {
     "end_time": "2025-05-28T09:46:08.314557900Z",
     "start_time": "2025-05-28T09:45:20.091206400Z"
    }
   },
   "outputs": [],
   "source": [
    "data_train = downsample_and_concat('Intra/train', 'Intra/train_ds', 10, VERBOSE)"
   ]
  },
  {
   "cell_type": "code",
   "execution_count": 19,
   "outputs": [],
   "source": [
    "means, stds = find_means_and_stds(data_train)"
   ],
   "metadata": {
    "collapsed": false,
    "ExecuteTime": {
     "end_time": "2025-05-28T09:46:15.906688700Z",
     "start_time": "2025-05-28T09:46:07.687448500Z"
    }
   }
  },
  {
   "cell_type": "code",
   "execution_count": 23,
   "outputs": [],
   "source": [
    "normalize_and_save('Intra/train_ds', 'Intra/train_ds_norm', means, stds, VERBOSE)"
   ],
   "metadata": {
    "collapsed": false,
    "ExecuteTime": {
     "end_time": "2025-05-28T09:54:24.312415Z",
     "start_time": "2025-05-28T09:54:11.396411Z"
    }
   }
  },
  {
   "cell_type": "code",
   "execution_count": 20,
   "outputs": [],
   "source": [],
   "metadata": {
    "collapsed": false,
    "ExecuteTime": {
     "end_time": "2025-05-28T09:46:16.248162800Z",
     "start_time": "2025-05-28T09:46:15.583503700Z"
    }
   }
  }
 ],
 "metadata": {
  "kernelspec": {
   "display_name": "Python 3",
   "language": "python",
   "name": "python3"
  },
  "language_info": {
   "codemirror_mode": {
    "name": "ipython",
    "version": 2
   },
   "file_extension": ".py",
   "mimetype": "text/x-python",
   "name": "python",
   "nbconvert_exporter": "python",
   "pygments_lexer": "ipython2",
   "version": "2.7.6"
  }
 },
 "nbformat": 4,
 "nbformat_minor": 0
}
